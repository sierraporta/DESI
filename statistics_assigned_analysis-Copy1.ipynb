{
 "cells": [
  {
   "cell_type": "code",
   "execution_count": 1,
   "metadata": {},
   "outputs": [],
   "source": [
    "from astropy.table import Table, join, Column, vstack\n",
    "import numpy as np\n",
    "import matplotlib.pyplot as plt\n",
    "import glob\n",
    "import os\n",
    "import fitsio as F\n",
    "import desimodel.io\n",
    "import desitarget.mtl\n",
    "import desisim.quickcat\n",
    "from astropy.io import fits\n",
    "import json\n",
    "import shutil\n",
    "from desitarget.targetmask import desi_mask, obsconditions, bgs_mask\n",
    "from collections import Counter"
   ]
  },
  {
   "cell_type": "code",
   "execution_count": 2,
   "metadata": {},
   "outputs": [],
   "source": [
    "realn=0\n",
    "fba_files = glob.glob(\"fba_bright_north_\"+str(realn)+\"/fba-*.fits\")"
   ]
  },
  {
   "cell_type": "code",
   "execution_count": 3,
   "metadata": {},
   "outputs": [
    {
     "data": {
      "text/plain": [
       "array(['041812', '039964', '032754', ..., '041062', '046034', '036381'],\n",
       "      dtype='<U6')"
      ]
     },
     "execution_count": 3,
     "metadata": {},
     "output_type": "execute_result"
    }
   ],
   "source": [
    "tiles=[]\n",
    "for i in fba_files:\n",
    "    tiles.append(i.split('-')[1][-13:-5])\n",
    "tiles=np.array(tiles)\n",
    "tiles"
   ]
  },
  {
   "cell_type": "code",
   "execution_count": 4,
   "metadata": {},
   "outputs": [
    {
     "name": "stdout",
     "output_type": "stream",
     "text": [
      "Testing with tile 041812\n"
     ]
    }
   ],
   "source": [
    "tile=tiles[0]\n",
    "print(\"Testing with tile\",tile)"
   ]
  },
  {
   "cell_type": "code",
   "execution_count": 5,
   "metadata": {},
   "outputs": [],
   "source": [
    "target=F.read(\"targets_bright_north_\"+str(realn)+\".fits\",columns=['TARGETID','RA','DEC','DESI_TARGET','BGS_TARGET','MWS_TARGET','SUBPRIORITY','PRIORITY_INIT','NUMOBS_INIT'])"
   ]
  },
  {
   "cell_type": "code",
   "execution_count": 6,
   "metadata": {},
   "outputs": [],
   "source": [
    "assign=F.read(\"fba_bright_north_\"+str(realn)+\"/\"+\"fba-\"+tile+\".fits\",\n",
    "              columns=['FIBER','TARGETID','LOCATION','PETAL_LOC','TARGET_RA','TARGET_DEC','FA_TARGET','FA_TYPE'],ext=\"FASSIGN\")\n",
    "avail=F.read(\"fba_bright_north_\"+str(realn)+\"/\"+\"fba-\"+tile+\".fits\",ext=\"FAVAIL\")"
   ]
  },
  {
   "cell_type": "code",
   "execution_count": 7,
   "metadata": {},
   "outputs": [
    {
     "data": {
      "text/plain": [
       "(5020, 42774)"
      ]
     },
     "execution_count": 7,
     "metadata": {},
     "output_type": "execute_result"
    }
   ],
   "source": [
    "len(assign), len(avail)"
   ]
  },
  {
   "cell_type": "code",
   "execution_count": 8,
   "metadata": {},
   "outputs": [
    {
     "data": {
      "text/plain": [
       "array([( 400, 288230378240522874,    0, 0, 128.3649244 , 73.56634431, 2305843009213693952, 1),\n",
       "       ( 449, 288230378240522728,    1, 0, 128.388773  , 73.54570196, 2305843009213693952, 1),\n",
       "       ( 420, 288230378240491583,    2, 0, 128.23088074, 73.56285095, 1152921504606846976, 1),\n",
       "       ...,\n",
       "       (4944, 288230378240508053, 9524, 9, 130.73736811, 72.30702013,         34359738368, 2),\n",
       "       (4909, 288230378240536387, 9525, 9, 130.57627985, 72.28115657,          4294967296, 4),\n",
       "       (4900, 288230378240507543, 9526, 9, 130.50802352, 72.28574327, 2305843017803628544, 3)],\n",
       "      dtype=[('FIBER', '>i4'), ('TARGETID', '>i8'), ('LOCATION', '>i4'), ('PETAL_LOC', '>i2'), ('TARGET_RA', '>f8'), ('TARGET_DEC', '>f8'), ('FA_TARGET', '>i8'), ('FA_TYPE', 'u1')])"
      ]
     },
     "execution_count": 8,
     "metadata": {},
     "output_type": "execute_result"
    }
   ],
   "source": [
    "assign"
   ]
  },
  {
   "cell_type": "code",
   "execution_count": 9,
   "metadata": {},
   "outputs": [],
   "source": [
    "master=join(avail,assign,join_type='left',keys=[\"FIBER\",\"LOCATION\"])"
   ]
  },
  {
   "cell_type": "code",
   "execution_count": 10,
   "metadata": {},
   "outputs": [
    {
     "data": {
      "text/html": [
       "&lt;Table length=42774&gt;\n",
       "<table id=\"table46913423724616\" class=\"table-striped table-bordered table-condensed\">\n",
       "<thead><tr><th>LOCATION</th><th>FIBER</th><th>TARGETID_1</th><th>TARGETID_2</th><th>PETAL_LOC</th><th>TARGET_RA</th><th>TARGET_DEC</th><th>FA_TARGET</th><th>FA_TYPE</th></tr></thead>\n",
       "<thead><tr><th>int32</th><th>int32</th><th>int64</th><th>int64</th><th>int16</th><th>float64</th><th>float64</th><th>int64</th><th>uint8</th></tr></thead>\n",
       "<tr><td>311</td><td>0</td><td>288230378240520452</td><td>288230378240490459</td><td>0</td><td>127.26505279541016</td><td>72.55120849609375</td><td>1152921504606846976</td><td>1</td></tr>\n",
       "<tr><td>311</td><td>0</td><td>288230378240490329</td><td>288230378240490459</td><td>0</td><td>127.26505279541016</td><td>72.55120849609375</td><td>1152921504606846976</td><td>1</td></tr>\n",
       "<tr><td>311</td><td>0</td><td>288230378240542339</td><td>288230378240490459</td><td>0</td><td>127.26505279541016</td><td>72.55120849609375</td><td>1152921504606846976</td><td>1</td></tr>\n",
       "<tr><td>311</td><td>0</td><td>288230378240520760</td><td>288230378240490459</td><td>0</td><td>127.26505279541016</td><td>72.55120849609375</td><td>1152921504606846976</td><td>1</td></tr>\n",
       "<tr><td>311</td><td>0</td><td>288230378240520628</td><td>288230378240490459</td><td>0</td><td>127.26505279541016</td><td>72.55120849609375</td><td>1152921504606846976</td><td>1</td></tr>\n",
       "<tr><td>311</td><td>0</td><td>288230378240542322</td><td>288230378240490459</td><td>0</td><td>127.26505279541016</td><td>72.55120849609375</td><td>1152921504606846976</td><td>1</td></tr>\n",
       "<tr><td>311</td><td>0</td><td>288230378240490296</td><td>288230378240490459</td><td>0</td><td>127.26505279541016</td><td>72.55120849609375</td><td>1152921504606846976</td><td>1</td></tr>\n",
       "<tr><td>311</td><td>0</td><td>288230378240542190</td><td>288230378240490459</td><td>0</td><td>127.26505279541016</td><td>72.55120849609375</td><td>1152921504606846976</td><td>1</td></tr>\n",
       "<tr><td>311</td><td>0</td><td>288230378240520728</td><td>288230378240490459</td><td>0</td><td>127.26505279541016</td><td>72.55120849609375</td><td>1152921504606846976</td><td>1</td></tr>\n",
       "<tr><td>311</td><td>0</td><td>288230378240490459</td><td>288230378240490459</td><td>0</td><td>127.26505279541016</td><td>72.55120849609375</td><td>1152921504606846976</td><td>1</td></tr>\n",
       "<tr><td>...</td><td>...</td><td>...</td><td>...</td><td>...</td><td>...</td><td>...</td><td>...</td><td>...</td></tr>\n",
       "<tr><td>9461</td><td>5018</td><td>288230378240506294</td><td>288230378240482168</td><td>9</td><td>132.4918212890625</td><td>72.62639617919922</td><td>1152921504606846976</td><td>1</td></tr>\n",
       "<tr><td>9461</td><td>5018</td><td>288230378240535720</td><td>288230378240482168</td><td>9</td><td>132.4918212890625</td><td>72.62639617919922</td><td>1152921504606846976</td><td>1</td></tr>\n",
       "<tr><td>9461</td><td>5018</td><td>288230378240506206</td><td>288230378240482168</td><td>9</td><td>132.4918212890625</td><td>72.62639617919922</td><td>1152921504606846976</td><td>1</td></tr>\n",
       "<tr><td>9461</td><td>5018</td><td>288230378240535975</td><td>288230378240482168</td><td>9</td><td>132.4918212890625</td><td>72.62639617919922</td><td>1152921504606846976</td><td>1</td></tr>\n",
       "<tr><td>9461</td><td>5018</td><td>288230378240535517</td><td>288230378240482168</td><td>9</td><td>132.4918212890625</td><td>72.62639617919922</td><td>1152921504606846976</td><td>1</td></tr>\n",
       "<tr><td>9461</td><td>5018</td><td>288230378240482168</td><td>288230378240482168</td><td>9</td><td>132.4918212890625</td><td>72.62639617919922</td><td>1152921504606846976</td><td>1</td></tr>\n",
       "<tr><td>9501</td><td>5019</td><td>288230378240535642</td><td>288230378240506224</td><td>9</td><td>131.91173139266638</td><td>72.49304112572209</td><td>2305843009213693952</td><td>1</td></tr>\n",
       "<tr><td>9501</td><td>5019</td><td>288230378240535710</td><td>288230378240506224</td><td>9</td><td>131.91173139266638</td><td>72.49304112572209</td><td>2305843009213693952</td><td>1</td></tr>\n",
       "<tr><td>9501</td><td>5019</td><td>288230378240506224</td><td>288230378240506224</td><td>9</td><td>131.91173139266638</td><td>72.49304112572209</td><td>2305843009213693952</td><td>1</td></tr>\n",
       "<tr><td>9501</td><td>5019</td><td>288230378240506489</td><td>288230378240506224</td><td>9</td><td>131.91173139266638</td><td>72.49304112572209</td><td>2305843009213693952</td><td>1</td></tr>\n",
       "</table>"
      ],
      "text/plain": [
       "<Table length=42774>\n",
       "LOCATION FIBER     TARGETID_1     ...      FA_TARGET      FA_TYPE\n",
       " int32   int32       int64        ...        int64         uint8 \n",
       "-------- ----- ------------------ ... ------------------- -------\n",
       "     311     0 288230378240520452 ... 1152921504606846976       1\n",
       "     311     0 288230378240490329 ... 1152921504606846976       1\n",
       "     311     0 288230378240542339 ... 1152921504606846976       1\n",
       "     311     0 288230378240520760 ... 1152921504606846976       1\n",
       "     311     0 288230378240520628 ... 1152921504606846976       1\n",
       "     311     0 288230378240542322 ... 1152921504606846976       1\n",
       "     311     0 288230378240490296 ... 1152921504606846976       1\n",
       "     311     0 288230378240542190 ... 1152921504606846976       1\n",
       "     311     0 288230378240520728 ... 1152921504606846976       1\n",
       "     311     0 288230378240490459 ... 1152921504606846976       1\n",
       "     ...   ...                ... ...                 ...     ...\n",
       "    9461  5018 288230378240506294 ... 1152921504606846976       1\n",
       "    9461  5018 288230378240535720 ... 1152921504606846976       1\n",
       "    9461  5018 288230378240506206 ... 1152921504606846976       1\n",
       "    9461  5018 288230378240535975 ... 1152921504606846976       1\n",
       "    9461  5018 288230378240535517 ... 1152921504606846976       1\n",
       "    9461  5018 288230378240482168 ... 1152921504606846976       1\n",
       "    9501  5019 288230378240535642 ... 2305843009213693952       1\n",
       "    9501  5019 288230378240535710 ... 2305843009213693952       1\n",
       "    9501  5019 288230378240506224 ... 2305843009213693952       1\n",
       "    9501  5019 288230378240506489 ... 2305843009213693952       1"
      ]
     },
     "execution_count": 10,
     "metadata": {},
     "output_type": "execute_result"
    }
   ],
   "source": [
    "master"
   ]
  },
  {
   "cell_type": "code",
   "execution_count": 11,
   "metadata": {},
   "outputs": [],
   "source": [
    "dict1=dict(zip(target[\"TARGETID\"],target[\"BGS_TARGET\"]))\n",
    "\n",
    "aval_bgs = [dict1.get(i,-1) for i in master[\"TARGETID_1\"]]\n",
    "master['BGS_TARGET_1']=aval_bgs\n",
    "assi_bgs = [dict1.get(i,-1) for i in master[\"TARGETID_2\"]]\n",
    "master['BGS_TARGET_2']=assi_bgs"
   ]
  },
  {
   "cell_type": "code",
   "execution_count": 12,
   "metadata": {},
   "outputs": [
    {
     "data": {
      "text/html": [
       "&lt;Table length=42774&gt;\n",
       "<table id=\"table46913423724616\" class=\"table-striped table-bordered table-condensed\">\n",
       "<thead><tr><th>LOCATION</th><th>FIBER</th><th>TARGETID_1</th><th>TARGETID_2</th><th>PETAL_LOC</th><th>TARGET_RA</th><th>TARGET_DEC</th><th>FA_TARGET</th><th>FA_TYPE</th><th>BGS_TARGET_1</th><th>BGS_TARGET_2</th></tr></thead>\n",
       "<thead><tr><th>int32</th><th>int32</th><th>int64</th><th>int64</th><th>int16</th><th>float64</th><th>float64</th><th>int64</th><th>uint8</th><th>int64</th><th>int64</th></tr></thead>\n",
       "<tr><td>311</td><td>0</td><td>288230378240520452</td><td>288230378240490459</td><td>0</td><td>127.26505279541016</td><td>72.55120849609375</td><td>1152921504606846976</td><td>1</td><td>0</td><td>1</td></tr>\n",
       "<tr><td>311</td><td>0</td><td>288230378240490329</td><td>288230378240490459</td><td>0</td><td>127.26505279541016</td><td>72.55120849609375</td><td>1152921504606846976</td><td>1</td><td>2</td><td>1</td></tr>\n",
       "<tr><td>311</td><td>0</td><td>288230378240542339</td><td>288230378240490459</td><td>0</td><td>127.26505279541016</td><td>72.55120849609375</td><td>1152921504606846976</td><td>1</td><td>-1</td><td>1</td></tr>\n",
       "<tr><td>311</td><td>0</td><td>288230378240520760</td><td>288230378240490459</td><td>0</td><td>127.26505279541016</td><td>72.55120849609375</td><td>1152921504606846976</td><td>1</td><td>0</td><td>1</td></tr>\n",
       "<tr><td>311</td><td>0</td><td>288230378240520628</td><td>288230378240490459</td><td>0</td><td>127.26505279541016</td><td>72.55120849609375</td><td>1152921504606846976</td><td>1</td><td>0</td><td>1</td></tr>\n",
       "<tr><td>311</td><td>0</td><td>288230378240542322</td><td>288230378240490459</td><td>0</td><td>127.26505279541016</td><td>72.55120849609375</td><td>1152921504606846976</td><td>1</td><td>-1</td><td>1</td></tr>\n",
       "<tr><td>311</td><td>0</td><td>288230378240490296</td><td>288230378240490459</td><td>0</td><td>127.26505279541016</td><td>72.55120849609375</td><td>1152921504606846976</td><td>1</td><td>1</td><td>1</td></tr>\n",
       "<tr><td>311</td><td>0</td><td>288230378240542190</td><td>288230378240490459</td><td>0</td><td>127.26505279541016</td><td>72.55120849609375</td><td>1152921504606846976</td><td>1</td><td>-1</td><td>1</td></tr>\n",
       "<tr><td>311</td><td>0</td><td>288230378240520728</td><td>288230378240490459</td><td>0</td><td>127.26505279541016</td><td>72.55120849609375</td><td>1152921504606846976</td><td>1</td><td>0</td><td>1</td></tr>\n",
       "<tr><td>311</td><td>0</td><td>288230378240490459</td><td>288230378240490459</td><td>0</td><td>127.26505279541016</td><td>72.55120849609375</td><td>1152921504606846976</td><td>1</td><td>1</td><td>1</td></tr>\n",
       "<tr><td>...</td><td>...</td><td>...</td><td>...</td><td>...</td><td>...</td><td>...</td><td>...</td><td>...</td><td>...</td><td>...</td></tr>\n",
       "<tr><td>9461</td><td>5018</td><td>288230378240506294</td><td>288230378240482168</td><td>9</td><td>132.4918212890625</td><td>72.62639617919922</td><td>1152921504606846976</td><td>1</td><td>0</td><td>1</td></tr>\n",
       "<tr><td>9461</td><td>5018</td><td>288230378240535720</td><td>288230378240482168</td><td>9</td><td>132.4918212890625</td><td>72.62639617919922</td><td>1152921504606846976</td><td>1</td><td>-1</td><td>1</td></tr>\n",
       "<tr><td>9461</td><td>5018</td><td>288230378240506206</td><td>288230378240482168</td><td>9</td><td>132.4918212890625</td><td>72.62639617919922</td><td>1152921504606846976</td><td>1</td><td>0</td><td>1</td></tr>\n",
       "<tr><td>9461</td><td>5018</td><td>288230378240535975</td><td>288230378240482168</td><td>9</td><td>132.4918212890625</td><td>72.62639617919922</td><td>1152921504606846976</td><td>1</td><td>-1</td><td>1</td></tr>\n",
       "<tr><td>9461</td><td>5018</td><td>288230378240535517</td><td>288230378240482168</td><td>9</td><td>132.4918212890625</td><td>72.62639617919922</td><td>1152921504606846976</td><td>1</td><td>-1</td><td>1</td></tr>\n",
       "<tr><td>9461</td><td>5018</td><td>288230378240482168</td><td>288230378240482168</td><td>9</td><td>132.4918212890625</td><td>72.62639617919922</td><td>1152921504606846976</td><td>1</td><td>1</td><td>1</td></tr>\n",
       "<tr><td>9501</td><td>5019</td><td>288230378240535642</td><td>288230378240506224</td><td>9</td><td>131.91173139266638</td><td>72.49304112572209</td><td>2305843009213693952</td><td>1</td><td>-1</td><td>0</td></tr>\n",
       "<tr><td>9501</td><td>5019</td><td>288230378240535710</td><td>288230378240506224</td><td>9</td><td>131.91173139266638</td><td>72.49304112572209</td><td>2305843009213693952</td><td>1</td><td>-1</td><td>0</td></tr>\n",
       "<tr><td>9501</td><td>5019</td><td>288230378240506224</td><td>288230378240506224</td><td>9</td><td>131.91173139266638</td><td>72.49304112572209</td><td>2305843009213693952</td><td>1</td><td>0</td><td>0</td></tr>\n",
       "<tr><td>9501</td><td>5019</td><td>288230378240506489</td><td>288230378240506224</td><td>9</td><td>131.91173139266638</td><td>72.49304112572209</td><td>2305843009213693952</td><td>1</td><td>0</td><td>0</td></tr>\n",
       "</table>"
      ],
      "text/plain": [
       "<Table length=42774>\n",
       "LOCATION FIBER     TARGETID_1     ... FA_TYPE BGS_TARGET_1 BGS_TARGET_2\n",
       " int32   int32       int64        ...  uint8     int64        int64    \n",
       "-------- ----- ------------------ ... ------- ------------ ------------\n",
       "     311     0 288230378240520452 ...       1            0            1\n",
       "     311     0 288230378240490329 ...       1            2            1\n",
       "     311     0 288230378240542339 ...       1           -1            1\n",
       "     311     0 288230378240520760 ...       1            0            1\n",
       "     311     0 288230378240520628 ...       1            0            1\n",
       "     311     0 288230378240542322 ...       1           -1            1\n",
       "     311     0 288230378240490296 ...       1            1            1\n",
       "     311     0 288230378240542190 ...       1           -1            1\n",
       "     311     0 288230378240520728 ...       1            0            1\n",
       "     311     0 288230378240490459 ...       1            1            1\n",
       "     ...   ...                ... ...     ...          ...          ...\n",
       "    9461  5018 288230378240506294 ...       1            0            1\n",
       "    9461  5018 288230378240535720 ...       1           -1            1\n",
       "    9461  5018 288230378240506206 ...       1            0            1\n",
       "    9461  5018 288230378240535975 ...       1           -1            1\n",
       "    9461  5018 288230378240535517 ...       1           -1            1\n",
       "    9461  5018 288230378240482168 ...       1            1            1\n",
       "    9501  5019 288230378240535642 ...       1           -1            0\n",
       "    9501  5019 288230378240535710 ...       1           -1            0\n",
       "    9501  5019 288230378240506224 ...       1            0            0\n",
       "    9501  5019 288230378240506489 ...       1            0            0"
      ]
     },
     "execution_count": 12,
     "metadata": {},
     "output_type": "execute_result"
    }
   ],
   "source": [
    "master"
   ]
  },
  {
   "cell_type": "code",
   "execution_count": 13,
   "metadata": {},
   "outputs": [],
   "source": [
    "is_availableintarget = np.zeros(len(master), dtype=bool)\n",
    "id_availableintarget = np.isin(master['TARGETID_1'], target[\"TARGETID\"])\n",
    "is_availableintarget[id_availableintarget] = True\n",
    "master['AVAIL_IN_TARGET'] = is_availableintarget"
   ]
  },
  {
   "cell_type": "code",
   "execution_count": 14,
   "metadata": {},
   "outputs": [
    {
     "data": {
      "text/html": [
       "&lt;Table length=42774&gt;\n",
       "<table id=\"table46913423724616\" class=\"table-striped table-bordered table-condensed\">\n",
       "<thead><tr><th>LOCATION</th><th>FIBER</th><th>TARGETID_1</th><th>TARGETID_2</th><th>PETAL_LOC</th><th>TARGET_RA</th><th>TARGET_DEC</th><th>FA_TARGET</th><th>FA_TYPE</th><th>BGS_TARGET_1</th><th>BGS_TARGET_2</th><th>AVAIL_IN_TARGET</th></tr></thead>\n",
       "<thead><tr><th>int32</th><th>int32</th><th>int64</th><th>int64</th><th>int16</th><th>float64</th><th>float64</th><th>int64</th><th>uint8</th><th>int64</th><th>int64</th><th>bool</th></tr></thead>\n",
       "<tr><td>311</td><td>0</td><td>288230378240520452</td><td>288230378240490459</td><td>0</td><td>127.26505279541016</td><td>72.55120849609375</td><td>1152921504606846976</td><td>1</td><td>0</td><td>1</td><td>True</td></tr>\n",
       "<tr><td>311</td><td>0</td><td>288230378240490329</td><td>288230378240490459</td><td>0</td><td>127.26505279541016</td><td>72.55120849609375</td><td>1152921504606846976</td><td>1</td><td>2</td><td>1</td><td>True</td></tr>\n",
       "<tr><td>311</td><td>0</td><td>288230378240542339</td><td>288230378240490459</td><td>0</td><td>127.26505279541016</td><td>72.55120849609375</td><td>1152921504606846976</td><td>1</td><td>-1</td><td>1</td><td>False</td></tr>\n",
       "<tr><td>311</td><td>0</td><td>288230378240520760</td><td>288230378240490459</td><td>0</td><td>127.26505279541016</td><td>72.55120849609375</td><td>1152921504606846976</td><td>1</td><td>0</td><td>1</td><td>True</td></tr>\n",
       "<tr><td>311</td><td>0</td><td>288230378240520628</td><td>288230378240490459</td><td>0</td><td>127.26505279541016</td><td>72.55120849609375</td><td>1152921504606846976</td><td>1</td><td>0</td><td>1</td><td>True</td></tr>\n",
       "<tr><td>311</td><td>0</td><td>288230378240542322</td><td>288230378240490459</td><td>0</td><td>127.26505279541016</td><td>72.55120849609375</td><td>1152921504606846976</td><td>1</td><td>-1</td><td>1</td><td>False</td></tr>\n",
       "<tr><td>311</td><td>0</td><td>288230378240490296</td><td>288230378240490459</td><td>0</td><td>127.26505279541016</td><td>72.55120849609375</td><td>1152921504606846976</td><td>1</td><td>1</td><td>1</td><td>True</td></tr>\n",
       "<tr><td>311</td><td>0</td><td>288230378240542190</td><td>288230378240490459</td><td>0</td><td>127.26505279541016</td><td>72.55120849609375</td><td>1152921504606846976</td><td>1</td><td>-1</td><td>1</td><td>False</td></tr>\n",
       "<tr><td>311</td><td>0</td><td>288230378240520728</td><td>288230378240490459</td><td>0</td><td>127.26505279541016</td><td>72.55120849609375</td><td>1152921504606846976</td><td>1</td><td>0</td><td>1</td><td>True</td></tr>\n",
       "<tr><td>311</td><td>0</td><td>288230378240490459</td><td>288230378240490459</td><td>0</td><td>127.26505279541016</td><td>72.55120849609375</td><td>1152921504606846976</td><td>1</td><td>1</td><td>1</td><td>True</td></tr>\n",
       "<tr><td>...</td><td>...</td><td>...</td><td>...</td><td>...</td><td>...</td><td>...</td><td>...</td><td>...</td><td>...</td><td>...</td><td>...</td></tr>\n",
       "<tr><td>9461</td><td>5018</td><td>288230378240506294</td><td>288230378240482168</td><td>9</td><td>132.4918212890625</td><td>72.62639617919922</td><td>1152921504606846976</td><td>1</td><td>0</td><td>1</td><td>True</td></tr>\n",
       "<tr><td>9461</td><td>5018</td><td>288230378240535720</td><td>288230378240482168</td><td>9</td><td>132.4918212890625</td><td>72.62639617919922</td><td>1152921504606846976</td><td>1</td><td>-1</td><td>1</td><td>False</td></tr>\n",
       "<tr><td>9461</td><td>5018</td><td>288230378240506206</td><td>288230378240482168</td><td>9</td><td>132.4918212890625</td><td>72.62639617919922</td><td>1152921504606846976</td><td>1</td><td>0</td><td>1</td><td>True</td></tr>\n",
       "<tr><td>9461</td><td>5018</td><td>288230378240535975</td><td>288230378240482168</td><td>9</td><td>132.4918212890625</td><td>72.62639617919922</td><td>1152921504606846976</td><td>1</td><td>-1</td><td>1</td><td>False</td></tr>\n",
       "<tr><td>9461</td><td>5018</td><td>288230378240535517</td><td>288230378240482168</td><td>9</td><td>132.4918212890625</td><td>72.62639617919922</td><td>1152921504606846976</td><td>1</td><td>-1</td><td>1</td><td>False</td></tr>\n",
       "<tr><td>9461</td><td>5018</td><td>288230378240482168</td><td>288230378240482168</td><td>9</td><td>132.4918212890625</td><td>72.62639617919922</td><td>1152921504606846976</td><td>1</td><td>1</td><td>1</td><td>True</td></tr>\n",
       "<tr><td>9501</td><td>5019</td><td>288230378240535642</td><td>288230378240506224</td><td>9</td><td>131.91173139266638</td><td>72.49304112572209</td><td>2305843009213693952</td><td>1</td><td>-1</td><td>0</td><td>False</td></tr>\n",
       "<tr><td>9501</td><td>5019</td><td>288230378240535710</td><td>288230378240506224</td><td>9</td><td>131.91173139266638</td><td>72.49304112572209</td><td>2305843009213693952</td><td>1</td><td>-1</td><td>0</td><td>False</td></tr>\n",
       "<tr><td>9501</td><td>5019</td><td>288230378240506224</td><td>288230378240506224</td><td>9</td><td>131.91173139266638</td><td>72.49304112572209</td><td>2305843009213693952</td><td>1</td><td>0</td><td>0</td><td>True</td></tr>\n",
       "<tr><td>9501</td><td>5019</td><td>288230378240506489</td><td>288230378240506224</td><td>9</td><td>131.91173139266638</td><td>72.49304112572209</td><td>2305843009213693952</td><td>1</td><td>0</td><td>0</td><td>True</td></tr>\n",
       "</table>"
      ],
      "text/plain": [
       "<Table length=42774>\n",
       "LOCATION FIBER     TARGETID_1     ... BGS_TARGET_1 BGS_TARGET_2 AVAIL_IN_TARGET\n",
       " int32   int32       int64        ...    int64        int64           bool     \n",
       "-------- ----- ------------------ ... ------------ ------------ ---------------\n",
       "     311     0 288230378240520452 ...            0            1            True\n",
       "     311     0 288230378240490329 ...            2            1            True\n",
       "     311     0 288230378240542339 ...           -1            1           False\n",
       "     311     0 288230378240520760 ...            0            1            True\n",
       "     311     0 288230378240520628 ...            0            1            True\n",
       "     311     0 288230378240542322 ...           -1            1           False\n",
       "     311     0 288230378240490296 ...            1            1            True\n",
       "     311     0 288230378240542190 ...           -1            1           False\n",
       "     311     0 288230378240520728 ...            0            1            True\n",
       "     311     0 288230378240490459 ...            1            1            True\n",
       "     ...   ...                ... ...          ...          ...             ...\n",
       "    9461  5018 288230378240506294 ...            0            1            True\n",
       "    9461  5018 288230378240535720 ...           -1            1           False\n",
       "    9461  5018 288230378240506206 ...            0            1            True\n",
       "    9461  5018 288230378240535975 ...           -1            1           False\n",
       "    9461  5018 288230378240535517 ...           -1            1           False\n",
       "    9461  5018 288230378240482168 ...            1            1            True\n",
       "    9501  5019 288230378240535642 ...           -1            0           False\n",
       "    9501  5019 288230378240535710 ...           -1            0           False\n",
       "    9501  5019 288230378240506224 ...            0            0            True\n",
       "    9501  5019 288230378240506489 ...            0            0            True"
      ]
     },
     "execution_count": 14,
     "metadata": {},
     "output_type": "execute_result"
    }
   ],
   "source": [
    "master"
   ]
  },
  {
   "cell_type": "code",
   "execution_count": 15,
   "metadata": {},
   "outputs": [],
   "source": [
    "master_in=master[master[\"AVAIL_IN_TARGET\"]==True]"
   ]
  },
  {
   "cell_type": "code",
   "execution_count": 16,
   "metadata": {},
   "outputs": [
    {
     "data": {
      "text/html": [
       "&lt;Table length=32637&gt;\n",
       "<table id=\"table46913423426280\" class=\"table-striped table-bordered table-condensed\">\n",
       "<thead><tr><th>LOCATION</th><th>FIBER</th><th>TARGETID_1</th><th>TARGETID_2</th><th>PETAL_LOC</th><th>TARGET_RA</th><th>TARGET_DEC</th><th>FA_TARGET</th><th>FA_TYPE</th><th>BGS_TARGET_1</th><th>BGS_TARGET_2</th><th>AVAIL_IN_TARGET</th></tr></thead>\n",
       "<thead><tr><th>int32</th><th>int32</th><th>int64</th><th>int64</th><th>int16</th><th>float64</th><th>float64</th><th>int64</th><th>uint8</th><th>int64</th><th>int64</th><th>bool</th></tr></thead>\n",
       "<tr><td>311</td><td>0</td><td>288230378240520452</td><td>288230378240490459</td><td>0</td><td>127.26505279541016</td><td>72.55120849609375</td><td>1152921504606846976</td><td>1</td><td>0</td><td>1</td><td>True</td></tr>\n",
       "<tr><td>311</td><td>0</td><td>288230378240490329</td><td>288230378240490459</td><td>0</td><td>127.26505279541016</td><td>72.55120849609375</td><td>1152921504606846976</td><td>1</td><td>2</td><td>1</td><td>True</td></tr>\n",
       "<tr><td>311</td><td>0</td><td>288230378240520760</td><td>288230378240490459</td><td>0</td><td>127.26505279541016</td><td>72.55120849609375</td><td>1152921504606846976</td><td>1</td><td>0</td><td>1</td><td>True</td></tr>\n",
       "<tr><td>311</td><td>0</td><td>288230378240520628</td><td>288230378240490459</td><td>0</td><td>127.26505279541016</td><td>72.55120849609375</td><td>1152921504606846976</td><td>1</td><td>0</td><td>1</td><td>True</td></tr>\n",
       "<tr><td>311</td><td>0</td><td>288230378240490296</td><td>288230378240490459</td><td>0</td><td>127.26505279541016</td><td>72.55120849609375</td><td>1152921504606846976</td><td>1</td><td>1</td><td>1</td><td>True</td></tr>\n",
       "<tr><td>311</td><td>0</td><td>288230378240520728</td><td>288230378240490459</td><td>0</td><td>127.26505279541016</td><td>72.55120849609375</td><td>1152921504606846976</td><td>1</td><td>0</td><td>1</td><td>True</td></tr>\n",
       "<tr><td>311</td><td>0</td><td>288230378240490459</td><td>288230378240490459</td><td>0</td><td>127.26505279541016</td><td>72.55120849609375</td><td>1152921504606846976</td><td>1</td><td>1</td><td>1</td><td>True</td></tr>\n",
       "<tr><td>272</td><td>1</td><td>288230378240490328</td><td>288230378240490328</td><td>0</td><td>127.6200180053711</td><td>72.59854888916016</td><td>1152921504606846976</td><td>1</td><td>2</td><td>2</td><td>True</td></tr>\n",
       "<tr><td>272</td><td>1</td><td>288230378240520759</td><td>288230378240490328</td><td>0</td><td>127.6200180053711</td><td>72.59854888916016</td><td>1152921504606846976</td><td>1</td><td>0</td><td>2</td><td>True</td></tr>\n",
       "<tr><td>272</td><td>1</td><td>288230378240490288</td><td>288230378240490328</td><td>0</td><td>127.6200180053711</td><td>72.59854888916016</td><td>1152921504606846976</td><td>1</td><td>2</td><td>2</td><td>True</td></tr>\n",
       "<tr><td>...</td><td>...</td><td>...</td><td>...</td><td>...</td><td>...</td><td>...</td><td>...</td><td>...</td><td>...</td><td>...</td><td>...</td></tr>\n",
       "<tr><td>8501</td><td>5017</td><td>288230378244689512</td><td>288230378244670188</td><td>8</td><td>133.82398986816406</td><td>73.30248260498047</td><td>1152921504606846976</td><td>1</td><td>0</td><td>1</td><td>True</td></tr>\n",
       "<tr><td>8501</td><td>5017</td><td>288230378244670180</td><td>288230378244670188</td><td>8</td><td>133.82398986816406</td><td>73.30248260498047</td><td>1152921504606846976</td><td>1</td><td>2</td><td>1</td><td>True</td></tr>\n",
       "<tr><td>8501</td><td>5017</td><td>288230378244689665</td><td>288230378244670188</td><td>8</td><td>133.82398986816406</td><td>73.30248260498047</td><td>1152921504606846976</td><td>1</td><td>0</td><td>1</td><td>True</td></tr>\n",
       "<tr><td>8501</td><td>5017</td><td>288230378244689820</td><td>288230378244670188</td><td>8</td><td>133.82398986816406</td><td>73.30248260498047</td><td>1152921504606846976</td><td>1</td><td>0</td><td>1</td><td>True</td></tr>\n",
       "<tr><td>8501</td><td>5017</td><td>288230378244689892</td><td>288230378244670188</td><td>8</td><td>133.82398986816406</td><td>73.30248260498047</td><td>1152921504606846976</td><td>1</td><td>0</td><td>1</td><td>True</td></tr>\n",
       "<tr><td>9461</td><td>5018</td><td>288230378240506294</td><td>288230378240482168</td><td>9</td><td>132.4918212890625</td><td>72.62639617919922</td><td>1152921504606846976</td><td>1</td><td>0</td><td>1</td><td>True</td></tr>\n",
       "<tr><td>9461</td><td>5018</td><td>288230378240506206</td><td>288230378240482168</td><td>9</td><td>132.4918212890625</td><td>72.62639617919922</td><td>1152921504606846976</td><td>1</td><td>0</td><td>1</td><td>True</td></tr>\n",
       "<tr><td>9461</td><td>5018</td><td>288230378240482168</td><td>288230378240482168</td><td>9</td><td>132.4918212890625</td><td>72.62639617919922</td><td>1152921504606846976</td><td>1</td><td>1</td><td>1</td><td>True</td></tr>\n",
       "<tr><td>9501</td><td>5019</td><td>288230378240506224</td><td>288230378240506224</td><td>9</td><td>131.91173139266638</td><td>72.49304112572209</td><td>2305843009213693952</td><td>1</td><td>0</td><td>0</td><td>True</td></tr>\n",
       "<tr><td>9501</td><td>5019</td><td>288230378240506489</td><td>288230378240506224</td><td>9</td><td>131.91173139266638</td><td>72.49304112572209</td><td>2305843009213693952</td><td>1</td><td>0</td><td>0</td><td>True</td></tr>\n",
       "</table>"
      ],
      "text/plain": [
       "<Table length=32637>\n",
       "LOCATION FIBER     TARGETID_1     ... BGS_TARGET_1 BGS_TARGET_2 AVAIL_IN_TARGET\n",
       " int32   int32       int64        ...    int64        int64           bool     \n",
       "-------- ----- ------------------ ... ------------ ------------ ---------------\n",
       "     311     0 288230378240520452 ...            0            1            True\n",
       "     311     0 288230378240490329 ...            2            1            True\n",
       "     311     0 288230378240520760 ...            0            1            True\n",
       "     311     0 288230378240520628 ...            0            1            True\n",
       "     311     0 288230378240490296 ...            1            1            True\n",
       "     311     0 288230378240520728 ...            0            1            True\n",
       "     311     0 288230378240490459 ...            1            1            True\n",
       "     272     1 288230378240490328 ...            2            2            True\n",
       "     272     1 288230378240520759 ...            0            2            True\n",
       "     272     1 288230378240490288 ...            2            2            True\n",
       "     ...   ...                ... ...          ...          ...             ...\n",
       "    8501  5017 288230378244689512 ...            0            1            True\n",
       "    8501  5017 288230378244670180 ...            2            1            True\n",
       "    8501  5017 288230378244689665 ...            0            1            True\n",
       "    8501  5017 288230378244689820 ...            0            1            True\n",
       "    8501  5017 288230378244689892 ...            0            1            True\n",
       "    9461  5018 288230378240506294 ...            0            1            True\n",
       "    9461  5018 288230378240506206 ...            0            1            True\n",
       "    9461  5018 288230378240482168 ...            1            1            True\n",
       "    9501  5019 288230378240506224 ...            0            0            True\n",
       "    9501  5019 288230378240506489 ...            0            0            True"
      ]
     },
     "execution_count": 16,
     "metadata": {},
     "output_type": "execute_result"
    }
   ],
   "source": [
    "master_in"
   ]
  },
  {
   "cell_type": "code",
   "execution_count": 17,
   "metadata": {},
   "outputs": [],
   "source": [
    "fiber=np.arange(0,5021,1)"
   ]
  },
  {
   "cell_type": "code",
   "execution_count": 18,
   "metadata": {},
   "outputs": [
    {
     "data": {
      "text/plain": [
       "array([   0,    1,    2, ..., 5018, 5019, 5020])"
      ]
     },
     "execution_count": 18,
     "metadata": {},
     "output_type": "execute_result"
    }
   ],
   "source": [
    "fiber"
   ]
  },
  {
   "cell_type": "code",
   "execution_count": 19,
   "metadata": {},
   "outputs": [],
   "source": [
    "isbright_1=master_in[\"BGS_TARGET_1\"]==2\n",
    "isbright_2=master_in[\"BGS_TARGET_2\"]==2\n",
    "isfaint_1=master_in[\"BGS_TARGET_1\"]==1\n",
    "isfaint_2=master_in[\"BGS_TARGET_2\"]==1\n",
    "isfainthip_1=master_in[\"BGS_TARGET_1\"]==9\n",
    "isfainthip_2=master_in[\"BGS_TARGET_2\"]==9\n",
    "isstar_1=master_in[\"BGS_TARGET_1\"]==0\n",
    "isstar_2=master_in[\"BGS_TARGET_2\"]==0"
   ]
  },
  {
   "cell_type": "code",
   "execution_count": 20,
   "metadata": {},
   "outputs": [
    {
     "data": {
      "text/html": [
       "&lt;Table length=6&gt;\n",
       "<table id=\"table46913423768544\" class=\"table-striped table-bordered table-condensed\">\n",
       "<thead><tr><th>LOCATION</th><th>FIBER</th><th>TARGETID_1</th><th>TARGETID_2</th><th>PETAL_LOC</th><th>TARGET_RA</th><th>TARGET_DEC</th><th>FA_TARGET</th><th>FA_TYPE</th><th>BGS_TARGET_1</th><th>BGS_TARGET_2</th><th>AVAIL_IN_TARGET</th></tr></thead>\n",
       "<thead><tr><th>int32</th><th>int32</th><th>int64</th><th>int64</th><th>int16</th><th>float64</th><th>float64</th><th>int64</th><th>uint8</th><th>int64</th><th>int64</th><th>bool</th></tr></thead>\n",
       "<tr><td>252</td><td>2</td><td>288230378240520812</td><td>288230378240520535</td><td>0</td><td>127.91436314702875</td><td>72.61715453557667</td><td>2305843009213693952</td><td>1</td><td>0</td><td>0</td><td>True</td></tr>\n",
       "<tr><td>252</td><td>2</td><td>288230378240520608</td><td>288230378240520535</td><td>0</td><td>127.91436314702875</td><td>72.61715453557667</td><td>2305843009213693952</td><td>1</td><td>0</td><td>0</td><td>True</td></tr>\n",
       "<tr><td>252</td><td>2</td><td>288230378240520535</td><td>288230378240520535</td><td>0</td><td>127.91436314702875</td><td>72.61715453557667</td><td>2305843009213693952</td><td>1</td><td>0</td><td>0</td><td>True</td></tr>\n",
       "<tr><td>252</td><td>2</td><td>288230378240490330</td><td>288230378240520535</td><td>0</td><td>127.91436314702875</td><td>72.61715453557667</td><td>2305843009213693952</td><td>1</td><td>1</td><td>0</td><td>True</td></tr>\n",
       "<tr><td>252</td><td>2</td><td>288230378240520749</td><td>288230378240520535</td><td>0</td><td>127.91436314702875</td><td>72.61715453557667</td><td>2305843009213693952</td><td>1</td><td>0</td><td>0</td><td>True</td></tr>\n",
       "<tr><td>252</td><td>2</td><td>288230378240508279</td><td>288230378240520535</td><td>0</td><td>127.91436314702875</td><td>72.61715453557667</td><td>2305843009213693952</td><td>1</td><td>0</td><td>0</td><td>True</td></tr>\n",
       "</table>"
      ],
      "text/plain": [
       "<Table length=6>\n",
       "LOCATION FIBER     TARGETID_1     ... BGS_TARGET_1 BGS_TARGET_2 AVAIL_IN_TARGET\n",
       " int32   int32       int64        ...    int64        int64           bool     \n",
       "-------- ----- ------------------ ... ------------ ------------ ---------------\n",
       "     252     2 288230378240520812 ...            0            0            True\n",
       "     252     2 288230378240520608 ...            0            0            True\n",
       "     252     2 288230378240520535 ...            0            0            True\n",
       "     252     2 288230378240490330 ...            1            0            True\n",
       "     252     2 288230378240520749 ...            0            0            True\n",
       "     252     2 288230378240508279 ...            0            0            True"
      ]
     },
     "execution_count": 20,
     "metadata": {},
     "output_type": "execute_result"
    }
   ],
   "source": [
    "master_in[master_in[\"FIBER\"]==2]"
   ]
  },
  {
   "cell_type": "markdown",
   "metadata": {},
   "source": [
    "Looping for fibers in tile."
   ]
  },
  {
   "cell_type": "code",
   "execution_count": 21,
   "metadata": {},
   "outputs": [],
   "source": [
    "b2b,b2f,b2fh,b2s,f2b,f2f,f2fh,f2s,fh2b,fh2f,fh2fh,fh2s,s2b,s2f,s2fh,s2s,fib=[],[],[],[],[],[],[],[],[],[],[],[],[],[],[],[],[]\n",
    "for i in range(5020):\n",
    "    isfiber=master_in[\"FIBER\"]==i\n",
    "    b2b0=len(master_in[isfiber&isbright_1&isbright_2])\n",
    "    b2f0=len(master_in[isfiber&isbright_1&isfaint_2])\n",
    "    b2fh0=len(master_in[isfiber&isbright_1&isfainthip_2])\n",
    "    b2s0=len(master_in[isfiber&isbright_1&isstar_2])\n",
    "    f2b0=len(master_in[isfiber&isfaint_1&isbright_2])\n",
    "    f2f0=len(master_in[isfiber&isfaint_1&isfaint_2])\n",
    "    f2fh0=len(master_in[isfiber&isfaint_1&isfainthip_2])\n",
    "    f2s0=len(master_in[isfiber&isfaint_1&isstar_2])\n",
    "    fh2b0=len(master_in[isfiber&isfainthip_1&isbright_2])\n",
    "    fh2f0=len(master_in[isfiber&isfainthip_1&isfaint_2])\n",
    "    fh2fh0=len(master_in[isfiber&isfainthip_1&isfainthip_2])\n",
    "    fh2s0=len(master_in[isfiber&isfainthip_1&isstar_2])\n",
    "    s2b0=len(master_in[isfiber&isstar_1&isbright_2])\n",
    "    s2f0=len(master_in[isfiber&isstar_1&isfaint_2])\n",
    "    s2fh0=len(master_in[isfiber&isstar_1&isfainthip_2])\n",
    "    s2s0=len(master_in[isfiber&isstar_1&isstar_2])\n",
    "    b2b.append(b2b0)\n",
    "    b2f.append(b2f0)\n",
    "    b2fh.append(b2fh0)\n",
    "    b2s.append(b2s0)\n",
    "    f2b.append(f2b0)\n",
    "    f2f.append(f2f0)\n",
    "    f2fh.append(f2fh0)\n",
    "    f2s.append(f2s0)\n",
    "    fh2b.append(fh2b0)\n",
    "    fh2f.append(fh2f0)\n",
    "    fh2fh.append(fh2fh0)\n",
    "    fh2s.append(fh2s0)\n",
    "    s2b.append(s2b0)\n",
    "    s2f.append(s2f0)\n",
    "    s2fh.append(s2fh0)\n",
    "    s2s.append(s2s0)\n",
    "    fib.append(i)\n",
    "b2b,b2f,b2fh,b2s=np.array(b2b),np.array(b2f),np.array(b2fh),np.array(b2s)\n",
    "f2b,f2f,f2fh,f2s=np.array(f2b),np.array(f2f),np.array(f2fh),np.array(f2s)\n",
    "fh2b,fh2f,fh2fh,fh2s=np.array(fh2b),np.array(fh2f),np.array(fh2fh),np.array(fh2s)\n",
    "s2b,s2f,s2fh,s2s=np.array(s2b),np.array(s2f),np.array(s2fh),np.array(s2s)\n",
    "fib=np.array(fib)"
   ]
  },
  {
   "cell_type": "code",
   "execution_count": 22,
   "metadata": {},
   "outputs": [
    {
     "data": {
      "text/html": [
       "&lt;Table length=5020&gt;\n",
       "<table id=\"table46918744187512\" class=\"table-striped table-bordered table-condensed\">\n",
       "<thead><tr><th>fib</th><th>b2b</th><th>b2f</th><th>b2fh</th><th>b2s</th><th>f2b</th><th>f2f</th><th>f2fh</th><th>f2s</th><th>fh2b</th><th>fh2f</th><th>fh2fh</th><th>fh2s</th><th>s2b</th><th>s2f</th><th>s2fh</th><th>s2s</th></tr></thead>\n",
       "<thead><tr><th>int64</th><th>int64</th><th>int64</th><th>int64</th><th>int64</th><th>int64</th><th>int64</th><th>int64</th><th>int64</th><th>int64</th><th>int64</th><th>int64</th><th>int64</th><th>int64</th><th>int64</th><th>int64</th><th>int64</th></tr></thead>\n",
       "<tr><td>0</td><td>0</td><td>1</td><td>0</td><td>0</td><td>0</td><td>2</td><td>0</td><td>0</td><td>0</td><td>0</td><td>0</td><td>0</td><td>0</td><td>4</td><td>0</td><td>0</td></tr>\n",
       "<tr><td>1</td><td>2</td><td>0</td><td>0</td><td>0</td><td>0</td><td>0</td><td>0</td><td>0</td><td>0</td><td>0</td><td>0</td><td>0</td><td>1</td><td>0</td><td>0</td><td>0</td></tr>\n",
       "<tr><td>2</td><td>0</td><td>0</td><td>0</td><td>0</td><td>0</td><td>0</td><td>0</td><td>1</td><td>0</td><td>0</td><td>0</td><td>0</td><td>0</td><td>0</td><td>0</td><td>5</td></tr>\n",
       "<tr><td>3</td><td>0</td><td>0</td><td>0</td><td>2</td><td>0</td><td>0</td><td>0</td><td>2</td><td>0</td><td>0</td><td>0</td><td>0</td><td>0</td><td>0</td><td>0</td><td>4</td></tr>\n",
       "<tr><td>4</td><td>0</td><td>0</td><td>0</td><td>2</td><td>0</td><td>0</td><td>0</td><td>0</td><td>0</td><td>0</td><td>0</td><td>0</td><td>0</td><td>0</td><td>0</td><td>3</td></tr>\n",
       "<tr><td>5</td><td>0</td><td>0</td><td>0</td><td>0</td><td>0</td><td>0</td><td>0</td><td>1</td><td>0</td><td>0</td><td>0</td><td>0</td><td>0</td><td>0</td><td>0</td><td>7</td></tr>\n",
       "<tr><td>6</td><td>0</td><td>0</td><td>0</td><td>0</td><td>0</td><td>0</td><td>0</td><td>1</td><td>0</td><td>0</td><td>0</td><td>0</td><td>0</td><td>0</td><td>0</td><td>8</td></tr>\n",
       "<tr><td>7</td><td>0</td><td>2</td><td>0</td><td>0</td><td>0</td><td>1</td><td>0</td><td>0</td><td>0</td><td>0</td><td>0</td><td>0</td><td>0</td><td>10</td><td>0</td><td>0</td></tr>\n",
       "<tr><td>8</td><td>1</td><td>0</td><td>0</td><td>0</td><td>1</td><td>0</td><td>0</td><td>0</td><td>0</td><td>0</td><td>0</td><td>0</td><td>6</td><td>0</td><td>0</td><td>0</td></tr>\n",
       "<tr><td>9</td><td>4</td><td>0</td><td>0</td><td>0</td><td>2</td><td>0</td><td>0</td><td>0</td><td>0</td><td>0</td><td>0</td><td>0</td><td>2</td><td>0</td><td>0</td><td>0</td></tr>\n",
       "<tr><td>...</td><td>...</td><td>...</td><td>...</td><td>...</td><td>...</td><td>...</td><td>...</td><td>...</td><td>...</td><td>...</td><td>...</td><td>...</td><td>...</td><td>...</td><td>...</td><td>...</td></tr>\n",
       "<tr><td>5010</td><td>1</td><td>0</td><td>0</td><td>0</td><td>2</td><td>0</td><td>0</td><td>0</td><td>0</td><td>0</td><td>0</td><td>0</td><td>6</td><td>0</td><td>0</td><td>0</td></tr>\n",
       "<tr><td>5011</td><td>2</td><td>0</td><td>0</td><td>0</td><td>1</td><td>0</td><td>0</td><td>0</td><td>0</td><td>0</td><td>0</td><td>0</td><td>3</td><td>0</td><td>0</td><td>0</td></tr>\n",
       "<tr><td>5012</td><td>2</td><td>0</td><td>0</td><td>0</td><td>0</td><td>0</td><td>0</td><td>0</td><td>0</td><td>0</td><td>0</td><td>0</td><td>9</td><td>0</td><td>0</td><td>0</td></tr>\n",
       "<tr><td>5013</td><td>0</td><td>0</td><td>0</td><td>0</td><td>0</td><td>1</td><td>0</td><td>0</td><td>0</td><td>0</td><td>0</td><td>0</td><td>0</td><td>8</td><td>0</td><td>0</td></tr>\n",
       "<tr><td>5014</td><td>0</td><td>0</td><td>0</td><td>0</td><td>0</td><td>0</td><td>0</td><td>0</td><td>0</td><td>0</td><td>0</td><td>0</td><td>0</td><td>0</td><td>0</td><td>0</td></tr>\n",
       "<tr><td>5015</td><td>0</td><td>0</td><td>0</td><td>0</td><td>0</td><td>0</td><td>0</td><td>1</td><td>0</td><td>0</td><td>0</td><td>0</td><td>0</td><td>0</td><td>0</td><td>9</td></tr>\n",
       "<tr><td>5016</td><td>0</td><td>0</td><td>0</td><td>0</td><td>0</td><td>0</td><td>0</td><td>0</td><td>0</td><td>0</td><td>1</td><td>0</td><td>0</td><td>0</td><td>2</td><td>0</td></tr>\n",
       "<tr><td>5017</td><td>0</td><td>1</td><td>0</td><td>0</td><td>0</td><td>1</td><td>0</td><td>0</td><td>0</td><td>0</td><td>0</td><td>0</td><td>0</td><td>5</td><td>0</td><td>0</td></tr>\n",
       "<tr><td>5018</td><td>0</td><td>0</td><td>0</td><td>0</td><td>0</td><td>1</td><td>0</td><td>0</td><td>0</td><td>0</td><td>0</td><td>0</td><td>0</td><td>2</td><td>0</td><td>0</td></tr>\n",
       "<tr><td>5019</td><td>0</td><td>0</td><td>0</td><td>0</td><td>0</td><td>0</td><td>0</td><td>0</td><td>0</td><td>0</td><td>0</td><td>0</td><td>0</td><td>0</td><td>0</td><td>2</td></tr>\n",
       "</table>"
      ],
      "text/plain": [
       "<Table length=5020>\n",
       " fib   b2b   b2f   b2fh  b2s   f2b  ... fh2fh  fh2s  s2b   s2f   s2fh  s2s \n",
       "int64 int64 int64 int64 int64 int64 ... int64 int64 int64 int64 int64 int64\n",
       "----- ----- ----- ----- ----- ----- ... ----- ----- ----- ----- ----- -----\n",
       "    0     0     1     0     0     0 ...     0     0     0     4     0     0\n",
       "    1     2     0     0     0     0 ...     0     0     1     0     0     0\n",
       "    2     0     0     0     0     0 ...     0     0     0     0     0     5\n",
       "    3     0     0     0     2     0 ...     0     0     0     0     0     4\n",
       "    4     0     0     0     2     0 ...     0     0     0     0     0     3\n",
       "    5     0     0     0     0     0 ...     0     0     0     0     0     7\n",
       "    6     0     0     0     0     0 ...     0     0     0     0     0     8\n",
       "    7     0     2     0     0     0 ...     0     0     0    10     0     0\n",
       "    8     1     0     0     0     1 ...     0     0     6     0     0     0\n",
       "    9     4     0     0     0     2 ...     0     0     2     0     0     0\n",
       "  ...   ...   ...   ...   ...   ... ...   ...   ...   ...   ...   ...   ...\n",
       " 5010     1     0     0     0     2 ...     0     0     6     0     0     0\n",
       " 5011     2     0     0     0     1 ...     0     0     3     0     0     0\n",
       " 5012     2     0     0     0     0 ...     0     0     9     0     0     0\n",
       " 5013     0     0     0     0     0 ...     0     0     0     8     0     0\n",
       " 5014     0     0     0     0     0 ...     0     0     0     0     0     0\n",
       " 5015     0     0     0     0     0 ...     0     0     0     0     0     9\n",
       " 5016     0     0     0     0     0 ...     1     0     0     0     2     0\n",
       " 5017     0     1     0     0     0 ...     0     0     0     5     0     0\n",
       " 5018     0     0     0     0     0 ...     0     0     0     2     0     0\n",
       " 5019     0     0     0     0     0 ...     0     0     0     0     0     2"
      ]
     },
     "execution_count": 22,
     "metadata": {},
     "output_type": "execute_result"
    }
   ],
   "source": [
    "new_table=Table([fib,b2b,b2f,b2fh,b2s,f2b,f2f,f2fh,f2s,fh2b,fh2f,fh2fh,fh2s,s2b,s2f,s2fh,s2s],\n",
    "               names=[\"fib\",\"b2b\",\"b2f\",\"b2fh\",\"b2s\",\"f2b\",\"f2f\",\"f2fh\",\"f2s\",\"fh2b\",\"fh2f\",\"fh2fh\",\"fh2s\",\"s2b\",\"s2f\",\"s2fh\",\"s2s\"])\n",
    "new_table"
   ]
  },
  {
   "cell_type": "markdown",
   "metadata": {},
   "source": [
    "How many fibers"
   ]
  },
  {
   "cell_type": "code",
   "execution_count": 25,
   "metadata": {},
   "outputs": [
    {
     "name": "stdout",
     "output_type": "stream",
     "text": [
      "Number of fibers bright to bright = 531\n",
      "Number of fibers bright to faint = 617\n",
      "Number of fibers bright to faint_hip = 41\n",
      "Number of fibers bright to star = 1617\n",
      "Number of fibers faint to bright = 363\n",
      "Number of fibers faint to faint = 833\n",
      "Number of fibers faint to faint_hip = 24\n",
      "Number of fibers faint to star = 1329\n",
      "Number of fibers faint_hip to bright = 60\n",
      "Number of fibers faint_hip to faint = 87\n",
      "Number of fibers faint_hip to faint_hip = 48\n",
      "Number of fibers faint_hip to star = 231\n",
      "Number of fibers star to bright = 524\n",
      "Number of fibers star to faint = 818\n",
      "Number of fibers star to faint_hip = 47\n",
      "Number of fibers star to star = 2939\n"
     ]
    }
   ],
   "source": [
    "colnames=[\"b2b\",\"b2f\",\"b2fh\",\"b2s\",\"f2b\",\"f2f\",\"f2fh\",\"f2s\",\"fh2b\",\"fh2f\",\"fh2fh\",\"fh2s\",\"s2b\",\"s2f\",\"s2fh\",\"s2s\"]\n",
    "names=[\"bright to bright\",\"bright to faint\",\"bright to faint_hip\",\"bright to star\",\"faint to bright\",\"faint to faint\",\"faint to faint_hip\",\"faint to star\",\n",
    "       \"faint_hip to bright\",\"faint_hip to faint\",\"faint_hip to faint_hip\",\"faint_hip to star\",\"star to bright\",\"star to faint\",\"star to faint_hip\",\"star to star\"]\n",
    "\n",
    "for i in range(len(colnames)):\n",
    "    print(\"Number of fibers\",names[i],\"=\",len(new_table[new_table[colnames[i]]!=0]))"
   ]
  },
  {
   "cell_type": "code",
   "execution_count": null,
   "metadata": {},
   "outputs": [],
   "source": []
  }
 ],
 "metadata": {
  "kernelspec": {
   "display_name": "DESI master",
   "language": "python",
   "name": "desi-master"
  },
  "language_info": {
   "codemirror_mode": {
    "name": "ipython",
    "version": 3
   },
   "file_extension": ".py",
   "mimetype": "text/x-python",
   "name": "python",
   "nbconvert_exporter": "python",
   "pygments_lexer": "ipython3",
   "version": "3.6.6"
  }
 },
 "nbformat": 4,
 "nbformat_minor": 4
}

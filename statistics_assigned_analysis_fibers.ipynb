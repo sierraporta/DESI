{
 "cells": [
  {
   "cell_type": "code",
   "execution_count": 1,
   "metadata": {},
   "outputs": [],
   "source": [
    "from astropy.table import Table, join, Column, vstack\n",
    "import numpy as np\n",
    "import matplotlib.pyplot as plt\n",
    "import glob\n",
    "import os\n",
    "import fitsio as F\n",
    "import desimodel.io\n",
    "import desitarget.mtl\n",
    "import desisim.quickcat\n",
    "from astropy.io import fits\n",
    "import json\n",
    "import shutil\n",
    "from desitarget.targetmask import desi_mask, obsconditions, bgs_mask\n",
    "from collections import Counter"
   ]
  },
  {
   "cell_type": "code",
   "execution_count": 2,
   "metadata": {},
   "outputs": [],
   "source": [
    "realn=0\n",
    "fba_files = glob.glob(\"fba_bright_north_\"+str(realn)+\"/fba-*.fits\")"
   ]
  },
  {
   "cell_type": "code",
   "execution_count": 3,
   "metadata": {},
   "outputs": [
    {
     "data": {
      "text/plain": [
       "array(['041812', '039964', '032754', ..., '041062', '046034', '036381'],\n",
       "      dtype='<U6')"
      ]
     },
     "execution_count": 3,
     "metadata": {},
     "output_type": "execute_result"
    }
   ],
   "source": [
    "tiles=[]\n",
    "for i in fba_files:\n",
    "    tiles.append(i.split('-')[1][-13:-5])\n",
    "tiles=np.array(tiles)\n",
    "tiles"
   ]
  },
  {
   "cell_type": "code",
   "execution_count": 4,
   "metadata": {},
   "outputs": [
    {
     "name": "stdout",
     "output_type": "stream",
     "text": [
      "Testing with tile 041812\n"
     ]
    }
   ],
   "source": [
    "tile=tiles[0]\n",
    "print(\"Testing with tile\",tile)"
   ]
  },
  {
   "cell_type": "code",
   "execution_count": 5,
   "metadata": {},
   "outputs": [],
   "source": [
    "target=F.read(\"targets_bright_north_\"+str(realn)+\".fits\",columns=['TARGETID','RA','DEC','DESI_TARGET','BGS_TARGET','MWS_TARGET','SUBPRIORITY','PRIORITY_INIT','NUMOBS_INIT'])"
   ]
  },
  {
   "cell_type": "code",
   "execution_count": 6,
   "metadata": {},
   "outputs": [],
   "source": [
    "assign=F.read(\"fba_bright_north_\"+str(realn)+\"/\"+\"fba-\"+tile+\".fits\",\n",
    "              columns=['FIBER','TARGETID','LOCATION','PETAL_LOC','TARGET_RA','TARGET_DEC','FA_TARGET','FA_TYPE'],ext=\"FASSIGN\")\n",
    "avail=F.read(\"fba_bright_north_\"+str(realn)+\"/\"+\"fba-\"+tile+\".fits\",ext=\"FAVAIL\")"
   ]
  },
  {
   "cell_type": "code",
   "execution_count": 7,
   "metadata": {},
   "outputs": [
    {
     "data": {
      "text/plain": [
       "(5020, 42774)"
      ]
     },
     "execution_count": 7,
     "metadata": {},
     "output_type": "execute_result"
    }
   ],
   "source": [
    "len(assign), len(avail)"
   ]
  },
  {
   "cell_type": "code",
   "execution_count": 8,
   "metadata": {},
   "outputs": [
    {
     "data": {
      "text/plain": [
       "array([( 400, 288230378240522874,    0, 0, 128.3649244 , 73.56634431, 2305843009213693952, 1),\n",
       "       ( 449, 288230378240522728,    1, 0, 128.388773  , 73.54570196, 2305843009213693952, 1),\n",
       "       ( 420, 288230378240491583,    2, 0, 128.23088074, 73.56285095, 1152921504606846976, 1),\n",
       "       ...,\n",
       "       (4944, 288230378240508053, 9524, 9, 130.73736811, 72.30702013,         34359738368, 2),\n",
       "       (4909, 288230378240536387, 9525, 9, 130.57627985, 72.28115657,          4294967296, 4),\n",
       "       (4900, 288230378240507543, 9526, 9, 130.50802352, 72.28574327, 2305843017803628544, 3)],\n",
       "      dtype=[('FIBER', '>i4'), ('TARGETID', '>i8'), ('LOCATION', '>i4'), ('PETAL_LOC', '>i2'), ('TARGET_RA', '>f8'), ('TARGET_DEC', '>f8'), ('FA_TARGET', '>i8'), ('FA_TYPE', 'u1')])"
      ]
     },
     "execution_count": 8,
     "metadata": {},
     "output_type": "execute_result"
    }
   ],
   "source": [
    "assign"
   ]
  },
  {
   "cell_type": "code",
   "execution_count": 9,
   "metadata": {},
   "outputs": [],
   "source": [
    "master=join(avail,assign,join_type='left',keys=[\"FIBER\",\"LOCATION\"])"
   ]
  },
  {
   "cell_type": "code",
   "execution_count": 10,
   "metadata": {},
   "outputs": [
    {
     "data": {
      "text/html": [
       "&lt;Table length=42774&gt;\n",
       "<table id=\"table46913423923688\" class=\"table-striped table-bordered table-condensed\">\n",
       "<thead><tr><th>LOCATION</th><th>FIBER</th><th>TARGETID_1</th><th>TARGETID_2</th><th>PETAL_LOC</th><th>TARGET_RA</th><th>TARGET_DEC</th><th>FA_TARGET</th><th>FA_TYPE</th></tr></thead>\n",
       "<thead><tr><th>int32</th><th>int32</th><th>int64</th><th>int64</th><th>int16</th><th>float64</th><th>float64</th><th>int64</th><th>uint8</th></tr></thead>\n",
       "<tr><td>311</td><td>0</td><td>288230378240520452</td><td>288230378240490459</td><td>0</td><td>127.26505279541016</td><td>72.55120849609375</td><td>1152921504606846976</td><td>1</td></tr>\n",
       "<tr><td>311</td><td>0</td><td>288230378240490329</td><td>288230378240490459</td><td>0</td><td>127.26505279541016</td><td>72.55120849609375</td><td>1152921504606846976</td><td>1</td></tr>\n",
       "<tr><td>311</td><td>0</td><td>288230378240542339</td><td>288230378240490459</td><td>0</td><td>127.26505279541016</td><td>72.55120849609375</td><td>1152921504606846976</td><td>1</td></tr>\n",
       "<tr><td>311</td><td>0</td><td>288230378240520760</td><td>288230378240490459</td><td>0</td><td>127.26505279541016</td><td>72.55120849609375</td><td>1152921504606846976</td><td>1</td></tr>\n",
       "<tr><td>311</td><td>0</td><td>288230378240520628</td><td>288230378240490459</td><td>0</td><td>127.26505279541016</td><td>72.55120849609375</td><td>1152921504606846976</td><td>1</td></tr>\n",
       "<tr><td>311</td><td>0</td><td>288230378240542322</td><td>288230378240490459</td><td>0</td><td>127.26505279541016</td><td>72.55120849609375</td><td>1152921504606846976</td><td>1</td></tr>\n",
       "<tr><td>311</td><td>0</td><td>288230378240490296</td><td>288230378240490459</td><td>0</td><td>127.26505279541016</td><td>72.55120849609375</td><td>1152921504606846976</td><td>1</td></tr>\n",
       "<tr><td>311</td><td>0</td><td>288230378240542190</td><td>288230378240490459</td><td>0</td><td>127.26505279541016</td><td>72.55120849609375</td><td>1152921504606846976</td><td>1</td></tr>\n",
       "<tr><td>311</td><td>0</td><td>288230378240520728</td><td>288230378240490459</td><td>0</td><td>127.26505279541016</td><td>72.55120849609375</td><td>1152921504606846976</td><td>1</td></tr>\n",
       "<tr><td>311</td><td>0</td><td>288230378240490459</td><td>288230378240490459</td><td>0</td><td>127.26505279541016</td><td>72.55120849609375</td><td>1152921504606846976</td><td>1</td></tr>\n",
       "<tr><td>...</td><td>...</td><td>...</td><td>...</td><td>...</td><td>...</td><td>...</td><td>...</td><td>...</td></tr>\n",
       "<tr><td>9461</td><td>5018</td><td>288230378240506294</td><td>288230378240482168</td><td>9</td><td>132.4918212890625</td><td>72.62639617919922</td><td>1152921504606846976</td><td>1</td></tr>\n",
       "<tr><td>9461</td><td>5018</td><td>288230378240535720</td><td>288230378240482168</td><td>9</td><td>132.4918212890625</td><td>72.62639617919922</td><td>1152921504606846976</td><td>1</td></tr>\n",
       "<tr><td>9461</td><td>5018</td><td>288230378240506206</td><td>288230378240482168</td><td>9</td><td>132.4918212890625</td><td>72.62639617919922</td><td>1152921504606846976</td><td>1</td></tr>\n",
       "<tr><td>9461</td><td>5018</td><td>288230378240535975</td><td>288230378240482168</td><td>9</td><td>132.4918212890625</td><td>72.62639617919922</td><td>1152921504606846976</td><td>1</td></tr>\n",
       "<tr><td>9461</td><td>5018</td><td>288230378240535517</td><td>288230378240482168</td><td>9</td><td>132.4918212890625</td><td>72.62639617919922</td><td>1152921504606846976</td><td>1</td></tr>\n",
       "<tr><td>9461</td><td>5018</td><td>288230378240482168</td><td>288230378240482168</td><td>9</td><td>132.4918212890625</td><td>72.62639617919922</td><td>1152921504606846976</td><td>1</td></tr>\n",
       "<tr><td>9501</td><td>5019</td><td>288230378240535642</td><td>288230378240506224</td><td>9</td><td>131.91173139266638</td><td>72.49304112572209</td><td>2305843009213693952</td><td>1</td></tr>\n",
       "<tr><td>9501</td><td>5019</td><td>288230378240535710</td><td>288230378240506224</td><td>9</td><td>131.91173139266638</td><td>72.49304112572209</td><td>2305843009213693952</td><td>1</td></tr>\n",
       "<tr><td>9501</td><td>5019</td><td>288230378240506224</td><td>288230378240506224</td><td>9</td><td>131.91173139266638</td><td>72.49304112572209</td><td>2305843009213693952</td><td>1</td></tr>\n",
       "<tr><td>9501</td><td>5019</td><td>288230378240506489</td><td>288230378240506224</td><td>9</td><td>131.91173139266638</td><td>72.49304112572209</td><td>2305843009213693952</td><td>1</td></tr>\n",
       "</table>"
      ],
      "text/plain": [
       "<Table length=42774>\n",
       "LOCATION FIBER     TARGETID_1     ...      FA_TARGET      FA_TYPE\n",
       " int32   int32       int64        ...        int64         uint8 \n",
       "-------- ----- ------------------ ... ------------------- -------\n",
       "     311     0 288230378240520452 ... 1152921504606846976       1\n",
       "     311     0 288230378240490329 ... 1152921504606846976       1\n",
       "     311     0 288230378240542339 ... 1152921504606846976       1\n",
       "     311     0 288230378240520760 ... 1152921504606846976       1\n",
       "     311     0 288230378240520628 ... 1152921504606846976       1\n",
       "     311     0 288230378240542322 ... 1152921504606846976       1\n",
       "     311     0 288230378240490296 ... 1152921504606846976       1\n",
       "     311     0 288230378240542190 ... 1152921504606846976       1\n",
       "     311     0 288230378240520728 ... 1152921504606846976       1\n",
       "     311     0 288230378240490459 ... 1152921504606846976       1\n",
       "     ...   ...                ... ...                 ...     ...\n",
       "    9461  5018 288230378240506294 ... 1152921504606846976       1\n",
       "    9461  5018 288230378240535720 ... 1152921504606846976       1\n",
       "    9461  5018 288230378240506206 ... 1152921504606846976       1\n",
       "    9461  5018 288230378240535975 ... 1152921504606846976       1\n",
       "    9461  5018 288230378240535517 ... 1152921504606846976       1\n",
       "    9461  5018 288230378240482168 ... 1152921504606846976       1\n",
       "    9501  5019 288230378240535642 ... 2305843009213693952       1\n",
       "    9501  5019 288230378240535710 ... 2305843009213693952       1\n",
       "    9501  5019 288230378240506224 ... 2305843009213693952       1\n",
       "    9501  5019 288230378240506489 ... 2305843009213693952       1"
      ]
     },
     "execution_count": 10,
     "metadata": {},
     "output_type": "execute_result"
    }
   ],
   "source": [
    "master"
   ]
  },
  {
   "cell_type": "code",
   "execution_count": 11,
   "metadata": {},
   "outputs": [],
   "source": [
    "dict1=dict(zip(target[\"TARGETID\"],target[\"BGS_TARGET\"]))\n",
    "\n",
    "aval_bgs = [dict1.get(i,-1) for i in master[\"TARGETID_1\"]]\n",
    "master['BGS_TARGET_1']=aval_bgs\n",
    "assi_bgs = [dict1.get(i,-1) for i in master[\"TARGETID_2\"]]\n",
    "master['BGS_TARGET_2']=assi_bgs"
   ]
  },
  {
   "cell_type": "code",
   "execution_count": 12,
   "metadata": {},
   "outputs": [
    {
     "data": {
      "text/html": [
       "&lt;Table length=42774&gt;\n",
       "<table id=\"table46913423923688\" class=\"table-striped table-bordered table-condensed\">\n",
       "<thead><tr><th>LOCATION</th><th>FIBER</th><th>TARGETID_1</th><th>TARGETID_2</th><th>PETAL_LOC</th><th>TARGET_RA</th><th>TARGET_DEC</th><th>FA_TARGET</th><th>FA_TYPE</th><th>BGS_TARGET_1</th><th>BGS_TARGET_2</th></tr></thead>\n",
       "<thead><tr><th>int32</th><th>int32</th><th>int64</th><th>int64</th><th>int16</th><th>float64</th><th>float64</th><th>int64</th><th>uint8</th><th>int64</th><th>int64</th></tr></thead>\n",
       "<tr><td>311</td><td>0</td><td>288230378240520452</td><td>288230378240490459</td><td>0</td><td>127.26505279541016</td><td>72.55120849609375</td><td>1152921504606846976</td><td>1</td><td>0</td><td>1</td></tr>\n",
       "<tr><td>311</td><td>0</td><td>288230378240490329</td><td>288230378240490459</td><td>0</td><td>127.26505279541016</td><td>72.55120849609375</td><td>1152921504606846976</td><td>1</td><td>2</td><td>1</td></tr>\n",
       "<tr><td>311</td><td>0</td><td>288230378240542339</td><td>288230378240490459</td><td>0</td><td>127.26505279541016</td><td>72.55120849609375</td><td>1152921504606846976</td><td>1</td><td>-1</td><td>1</td></tr>\n",
       "<tr><td>311</td><td>0</td><td>288230378240520760</td><td>288230378240490459</td><td>0</td><td>127.26505279541016</td><td>72.55120849609375</td><td>1152921504606846976</td><td>1</td><td>0</td><td>1</td></tr>\n",
       "<tr><td>311</td><td>0</td><td>288230378240520628</td><td>288230378240490459</td><td>0</td><td>127.26505279541016</td><td>72.55120849609375</td><td>1152921504606846976</td><td>1</td><td>0</td><td>1</td></tr>\n",
       "<tr><td>311</td><td>0</td><td>288230378240542322</td><td>288230378240490459</td><td>0</td><td>127.26505279541016</td><td>72.55120849609375</td><td>1152921504606846976</td><td>1</td><td>-1</td><td>1</td></tr>\n",
       "<tr><td>311</td><td>0</td><td>288230378240490296</td><td>288230378240490459</td><td>0</td><td>127.26505279541016</td><td>72.55120849609375</td><td>1152921504606846976</td><td>1</td><td>1</td><td>1</td></tr>\n",
       "<tr><td>311</td><td>0</td><td>288230378240542190</td><td>288230378240490459</td><td>0</td><td>127.26505279541016</td><td>72.55120849609375</td><td>1152921504606846976</td><td>1</td><td>-1</td><td>1</td></tr>\n",
       "<tr><td>311</td><td>0</td><td>288230378240520728</td><td>288230378240490459</td><td>0</td><td>127.26505279541016</td><td>72.55120849609375</td><td>1152921504606846976</td><td>1</td><td>0</td><td>1</td></tr>\n",
       "<tr><td>311</td><td>0</td><td>288230378240490459</td><td>288230378240490459</td><td>0</td><td>127.26505279541016</td><td>72.55120849609375</td><td>1152921504606846976</td><td>1</td><td>1</td><td>1</td></tr>\n",
       "<tr><td>...</td><td>...</td><td>...</td><td>...</td><td>...</td><td>...</td><td>...</td><td>...</td><td>...</td><td>...</td><td>...</td></tr>\n",
       "<tr><td>9461</td><td>5018</td><td>288230378240506294</td><td>288230378240482168</td><td>9</td><td>132.4918212890625</td><td>72.62639617919922</td><td>1152921504606846976</td><td>1</td><td>0</td><td>1</td></tr>\n",
       "<tr><td>9461</td><td>5018</td><td>288230378240535720</td><td>288230378240482168</td><td>9</td><td>132.4918212890625</td><td>72.62639617919922</td><td>1152921504606846976</td><td>1</td><td>-1</td><td>1</td></tr>\n",
       "<tr><td>9461</td><td>5018</td><td>288230378240506206</td><td>288230378240482168</td><td>9</td><td>132.4918212890625</td><td>72.62639617919922</td><td>1152921504606846976</td><td>1</td><td>0</td><td>1</td></tr>\n",
       "<tr><td>9461</td><td>5018</td><td>288230378240535975</td><td>288230378240482168</td><td>9</td><td>132.4918212890625</td><td>72.62639617919922</td><td>1152921504606846976</td><td>1</td><td>-1</td><td>1</td></tr>\n",
       "<tr><td>9461</td><td>5018</td><td>288230378240535517</td><td>288230378240482168</td><td>9</td><td>132.4918212890625</td><td>72.62639617919922</td><td>1152921504606846976</td><td>1</td><td>-1</td><td>1</td></tr>\n",
       "<tr><td>9461</td><td>5018</td><td>288230378240482168</td><td>288230378240482168</td><td>9</td><td>132.4918212890625</td><td>72.62639617919922</td><td>1152921504606846976</td><td>1</td><td>1</td><td>1</td></tr>\n",
       "<tr><td>9501</td><td>5019</td><td>288230378240535642</td><td>288230378240506224</td><td>9</td><td>131.91173139266638</td><td>72.49304112572209</td><td>2305843009213693952</td><td>1</td><td>-1</td><td>0</td></tr>\n",
       "<tr><td>9501</td><td>5019</td><td>288230378240535710</td><td>288230378240506224</td><td>9</td><td>131.91173139266638</td><td>72.49304112572209</td><td>2305843009213693952</td><td>1</td><td>-1</td><td>0</td></tr>\n",
       "<tr><td>9501</td><td>5019</td><td>288230378240506224</td><td>288230378240506224</td><td>9</td><td>131.91173139266638</td><td>72.49304112572209</td><td>2305843009213693952</td><td>1</td><td>0</td><td>0</td></tr>\n",
       "<tr><td>9501</td><td>5019</td><td>288230378240506489</td><td>288230378240506224</td><td>9</td><td>131.91173139266638</td><td>72.49304112572209</td><td>2305843009213693952</td><td>1</td><td>0</td><td>0</td></tr>\n",
       "</table>"
      ],
      "text/plain": [
       "<Table length=42774>\n",
       "LOCATION FIBER     TARGETID_1     ... FA_TYPE BGS_TARGET_1 BGS_TARGET_2\n",
       " int32   int32       int64        ...  uint8     int64        int64    \n",
       "-------- ----- ------------------ ... ------- ------------ ------------\n",
       "     311     0 288230378240520452 ...       1            0            1\n",
       "     311     0 288230378240490329 ...       1            2            1\n",
       "     311     0 288230378240542339 ...       1           -1            1\n",
       "     311     0 288230378240520760 ...       1            0            1\n",
       "     311     0 288230378240520628 ...       1            0            1\n",
       "     311     0 288230378240542322 ...       1           -1            1\n",
       "     311     0 288230378240490296 ...       1            1            1\n",
       "     311     0 288230378240542190 ...       1           -1            1\n",
       "     311     0 288230378240520728 ...       1            0            1\n",
       "     311     0 288230378240490459 ...       1            1            1\n",
       "     ...   ...                ... ...     ...          ...          ...\n",
       "    9461  5018 288230378240506294 ...       1            0            1\n",
       "    9461  5018 288230378240535720 ...       1           -1            1\n",
       "    9461  5018 288230378240506206 ...       1            0            1\n",
       "    9461  5018 288230378240535975 ...       1           -1            1\n",
       "    9461  5018 288230378240535517 ...       1           -1            1\n",
       "    9461  5018 288230378240482168 ...       1            1            1\n",
       "    9501  5019 288230378240535642 ...       1           -1            0\n",
       "    9501  5019 288230378240535710 ...       1           -1            0\n",
       "    9501  5019 288230378240506224 ...       1            0            0\n",
       "    9501  5019 288230378240506489 ...       1            0            0"
      ]
     },
     "execution_count": 12,
     "metadata": {},
     "output_type": "execute_result"
    }
   ],
   "source": [
    "master"
   ]
  },
  {
   "cell_type": "code",
   "execution_count": 13,
   "metadata": {},
   "outputs": [],
   "source": [
    "is_availableintarget = np.zeros(len(master), dtype=bool)\n",
    "id_availableintarget = np.isin(master['TARGETID_1'], target[\"TARGETID\"])\n",
    "is_availableintarget[id_availableintarget] = True\n",
    "master['AVAIL_IN_TARGET'] = is_availableintarget"
   ]
  },
  {
   "cell_type": "code",
   "execution_count": 14,
   "metadata": {},
   "outputs": [
    {
     "data": {
      "text/html": [
       "&lt;Table length=42774&gt;\n",
       "<table id=\"table46913423923688\" class=\"table-striped table-bordered table-condensed\">\n",
       "<thead><tr><th>LOCATION</th><th>FIBER</th><th>TARGETID_1</th><th>TARGETID_2</th><th>PETAL_LOC</th><th>TARGET_RA</th><th>TARGET_DEC</th><th>FA_TARGET</th><th>FA_TYPE</th><th>BGS_TARGET_1</th><th>BGS_TARGET_2</th><th>AVAIL_IN_TARGET</th></tr></thead>\n",
       "<thead><tr><th>int32</th><th>int32</th><th>int64</th><th>int64</th><th>int16</th><th>float64</th><th>float64</th><th>int64</th><th>uint8</th><th>int64</th><th>int64</th><th>bool</th></tr></thead>\n",
       "<tr><td>311</td><td>0</td><td>288230378240520452</td><td>288230378240490459</td><td>0</td><td>127.26505279541016</td><td>72.55120849609375</td><td>1152921504606846976</td><td>1</td><td>0</td><td>1</td><td>True</td></tr>\n",
       "<tr><td>311</td><td>0</td><td>288230378240490329</td><td>288230378240490459</td><td>0</td><td>127.26505279541016</td><td>72.55120849609375</td><td>1152921504606846976</td><td>1</td><td>2</td><td>1</td><td>True</td></tr>\n",
       "<tr><td>311</td><td>0</td><td>288230378240542339</td><td>288230378240490459</td><td>0</td><td>127.26505279541016</td><td>72.55120849609375</td><td>1152921504606846976</td><td>1</td><td>-1</td><td>1</td><td>False</td></tr>\n",
       "<tr><td>311</td><td>0</td><td>288230378240520760</td><td>288230378240490459</td><td>0</td><td>127.26505279541016</td><td>72.55120849609375</td><td>1152921504606846976</td><td>1</td><td>0</td><td>1</td><td>True</td></tr>\n",
       "<tr><td>311</td><td>0</td><td>288230378240520628</td><td>288230378240490459</td><td>0</td><td>127.26505279541016</td><td>72.55120849609375</td><td>1152921504606846976</td><td>1</td><td>0</td><td>1</td><td>True</td></tr>\n",
       "<tr><td>311</td><td>0</td><td>288230378240542322</td><td>288230378240490459</td><td>0</td><td>127.26505279541016</td><td>72.55120849609375</td><td>1152921504606846976</td><td>1</td><td>-1</td><td>1</td><td>False</td></tr>\n",
       "<tr><td>311</td><td>0</td><td>288230378240490296</td><td>288230378240490459</td><td>0</td><td>127.26505279541016</td><td>72.55120849609375</td><td>1152921504606846976</td><td>1</td><td>1</td><td>1</td><td>True</td></tr>\n",
       "<tr><td>311</td><td>0</td><td>288230378240542190</td><td>288230378240490459</td><td>0</td><td>127.26505279541016</td><td>72.55120849609375</td><td>1152921504606846976</td><td>1</td><td>-1</td><td>1</td><td>False</td></tr>\n",
       "<tr><td>311</td><td>0</td><td>288230378240520728</td><td>288230378240490459</td><td>0</td><td>127.26505279541016</td><td>72.55120849609375</td><td>1152921504606846976</td><td>1</td><td>0</td><td>1</td><td>True</td></tr>\n",
       "<tr><td>311</td><td>0</td><td>288230378240490459</td><td>288230378240490459</td><td>0</td><td>127.26505279541016</td><td>72.55120849609375</td><td>1152921504606846976</td><td>1</td><td>1</td><td>1</td><td>True</td></tr>\n",
       "<tr><td>...</td><td>...</td><td>...</td><td>...</td><td>...</td><td>...</td><td>...</td><td>...</td><td>...</td><td>...</td><td>...</td><td>...</td></tr>\n",
       "<tr><td>9461</td><td>5018</td><td>288230378240506294</td><td>288230378240482168</td><td>9</td><td>132.4918212890625</td><td>72.62639617919922</td><td>1152921504606846976</td><td>1</td><td>0</td><td>1</td><td>True</td></tr>\n",
       "<tr><td>9461</td><td>5018</td><td>288230378240535720</td><td>288230378240482168</td><td>9</td><td>132.4918212890625</td><td>72.62639617919922</td><td>1152921504606846976</td><td>1</td><td>-1</td><td>1</td><td>False</td></tr>\n",
       "<tr><td>9461</td><td>5018</td><td>288230378240506206</td><td>288230378240482168</td><td>9</td><td>132.4918212890625</td><td>72.62639617919922</td><td>1152921504606846976</td><td>1</td><td>0</td><td>1</td><td>True</td></tr>\n",
       "<tr><td>9461</td><td>5018</td><td>288230378240535975</td><td>288230378240482168</td><td>9</td><td>132.4918212890625</td><td>72.62639617919922</td><td>1152921504606846976</td><td>1</td><td>-1</td><td>1</td><td>False</td></tr>\n",
       "<tr><td>9461</td><td>5018</td><td>288230378240535517</td><td>288230378240482168</td><td>9</td><td>132.4918212890625</td><td>72.62639617919922</td><td>1152921504606846976</td><td>1</td><td>-1</td><td>1</td><td>False</td></tr>\n",
       "<tr><td>9461</td><td>5018</td><td>288230378240482168</td><td>288230378240482168</td><td>9</td><td>132.4918212890625</td><td>72.62639617919922</td><td>1152921504606846976</td><td>1</td><td>1</td><td>1</td><td>True</td></tr>\n",
       "<tr><td>9501</td><td>5019</td><td>288230378240535642</td><td>288230378240506224</td><td>9</td><td>131.91173139266638</td><td>72.49304112572209</td><td>2305843009213693952</td><td>1</td><td>-1</td><td>0</td><td>False</td></tr>\n",
       "<tr><td>9501</td><td>5019</td><td>288230378240535710</td><td>288230378240506224</td><td>9</td><td>131.91173139266638</td><td>72.49304112572209</td><td>2305843009213693952</td><td>1</td><td>-1</td><td>0</td><td>False</td></tr>\n",
       "<tr><td>9501</td><td>5019</td><td>288230378240506224</td><td>288230378240506224</td><td>9</td><td>131.91173139266638</td><td>72.49304112572209</td><td>2305843009213693952</td><td>1</td><td>0</td><td>0</td><td>True</td></tr>\n",
       "<tr><td>9501</td><td>5019</td><td>288230378240506489</td><td>288230378240506224</td><td>9</td><td>131.91173139266638</td><td>72.49304112572209</td><td>2305843009213693952</td><td>1</td><td>0</td><td>0</td><td>True</td></tr>\n",
       "</table>"
      ],
      "text/plain": [
       "<Table length=42774>\n",
       "LOCATION FIBER     TARGETID_1     ... BGS_TARGET_1 BGS_TARGET_2 AVAIL_IN_TARGET\n",
       " int32   int32       int64        ...    int64        int64           bool     \n",
       "-------- ----- ------------------ ... ------------ ------------ ---------------\n",
       "     311     0 288230378240520452 ...            0            1            True\n",
       "     311     0 288230378240490329 ...            2            1            True\n",
       "     311     0 288230378240542339 ...           -1            1           False\n",
       "     311     0 288230378240520760 ...            0            1            True\n",
       "     311     0 288230378240520628 ...            0            1            True\n",
       "     311     0 288230378240542322 ...           -1            1           False\n",
       "     311     0 288230378240490296 ...            1            1            True\n",
       "     311     0 288230378240542190 ...           -1            1           False\n",
       "     311     0 288230378240520728 ...            0            1            True\n",
       "     311     0 288230378240490459 ...            1            1            True\n",
       "     ...   ...                ... ...          ...          ...             ...\n",
       "    9461  5018 288230378240506294 ...            0            1            True\n",
       "    9461  5018 288230378240535720 ...           -1            1           False\n",
       "    9461  5018 288230378240506206 ...            0            1            True\n",
       "    9461  5018 288230378240535975 ...           -1            1           False\n",
       "    9461  5018 288230378240535517 ...           -1            1           False\n",
       "    9461  5018 288230378240482168 ...            1            1            True\n",
       "    9501  5019 288230378240535642 ...           -1            0           False\n",
       "    9501  5019 288230378240535710 ...           -1            0           False\n",
       "    9501  5019 288230378240506224 ...            0            0            True\n",
       "    9501  5019 288230378240506489 ...            0            0            True"
      ]
     },
     "execution_count": 14,
     "metadata": {},
     "output_type": "execute_result"
    }
   ],
   "source": [
    "master"
   ]
  },
  {
   "cell_type": "code",
   "execution_count": 15,
   "metadata": {},
   "outputs": [
    {
     "data": {
      "text/plain": [
       "32637"
      ]
     },
     "execution_count": 15,
     "metadata": {},
     "output_type": "execute_result"
    }
   ],
   "source": [
    "master_in=master[master[\"AVAIL_IN_TARGET\"]==True]\n",
    "len(master_in)"
   ]
  },
  {
   "cell_type": "code",
   "execution_count": 16,
   "metadata": {},
   "outputs": [
    {
     "data": {
      "text/plain": [
       "(array([(0, -1), (4, -1)],\n",
       "       dtype=[('FA_TYPE', 'u1'), ('BGS_TARGET_2', '<i8')]),\n",
       " array([ 154, 2468]))"
      ]
     },
     "execution_count": 16,
     "metadata": {},
     "output_type": "execute_result"
    }
   ],
   "source": [
    "np.unique(master_in[master_in[\"BGS_TARGET_2\"]==-1][\"FA_TYPE\",\"BGS_TARGET_2\"],return_counts=True)"
   ]
  },
  {
   "cell_type": "code",
   "execution_count": 17,
   "metadata": {},
   "outputs": [],
   "source": [
    "isbright_1=master_in[\"BGS_TARGET_1\"]==2\n",
    "isbright_2=master_in[\"BGS_TARGET_2\"]==2\n",
    "isfaint_1=master_in[\"BGS_TARGET_1\"]==1\n",
    "isfaint_2=master_in[\"BGS_TARGET_2\"]==1\n",
    "isfainthip_1=master_in[\"BGS_TARGET_1\"]==9\n",
    "isfainthip_2=master_in[\"BGS_TARGET_2\"]==9\n",
    "isstar_1=master_in[\"BGS_TARGET_1\"]==0\n",
    "isstar_2=master_in[\"BGS_TARGET_2\"]==0\n",
    "issky=master_in[\"FA_TYPE\"]==4\n",
    "isstd=(master_in[\"FA_TYPE\"]==3)|(master_in[\"FA_TYPE\"]==2)\n",
    "isscience=(master_in[\"FA_TYPE\"]==1)|(master_in[\"FA_TYPE\"]==3)\n",
    "iszero=(master_in[\"FA_TYPE\"]==0)"
   ]
  },
  {
   "cell_type": "code",
   "execution_count": 18,
   "metadata": {},
   "outputs": [
    {
     "name": "stdout",
     "output_type": "stream",
     "text": [
      "NUMBER OF FIBRES WITH BRIGHT AVAILABLE AND BRIGHT ASSIGNED = 531\n",
      "NUMBER OF FIBRES WITH BRIGHT AVAILABLE AND FAINT ASSIGNED = 617\n",
      "NUMBER OF FIBRES WITH BRIGHT AVAILABLE AND FAINT_HIP ASSIGNED = 41\n",
      "NUMBER OF FIBRES WITH BRIGHT AVAILABLE AND STAR ASSIGNED = 1617\n"
     ]
    }
   ],
   "source": [
    "print(\"NUMBER OF FIBRES WITH BRIGHT AVAILABLE AND BRIGHT ASSIGNED =\",len(np.unique(master_in[isbright_1&isbright_2][\"FIBER\"])))\n",
    "print(\"NUMBER OF FIBRES WITH BRIGHT AVAILABLE AND FAINT ASSIGNED =\",len(np.unique(master_in[isbright_1&isfaint_2][\"FIBER\"])))\n",
    "print(\"NUMBER OF FIBRES WITH BRIGHT AVAILABLE AND FAINT_HIP ASSIGNED =\",len(np.unique(master_in[isbright_1&isfainthip_2][\"FIBER\"])))\n",
    "print(\"NUMBER OF FIBRES WITH BRIGHT AVAILABLE AND STAR ASSIGNED =\",len(np.unique(master_in[isbright_1&isstar_2][\"FIBER\"])))"
   ]
  },
  {
   "cell_type": "code",
   "execution_count": 19,
   "metadata": {},
   "outputs": [
    {
     "name": "stdout",
     "output_type": "stream",
     "text": [
      "NUMBER OF FIBRES WITH FAINT AVAILABLE AND BRIGHT ASSIGNED = 363\n",
      "NUMBER OF FIBRES WITH FAINT AVAILABLE AND FAINT ASSIGNED = 833\n",
      "NUMBER OF FIBRES WITH FAINT AVAILABLE AND FAINT_HIP ASSIGNED = 24\n",
      "NUMBER OF FIBRES WITH FAINT AVAILABLE AND STAR ASSIGNED = 1329\n"
     ]
    }
   ],
   "source": [
    "print(\"NUMBER OF FIBRES WITH FAINT AVAILABLE AND BRIGHT ASSIGNED =\",len(np.unique(master_in[isfaint_1&isbright_2][\"FIBER\"])))\n",
    "print(\"NUMBER OF FIBRES WITH FAINT AVAILABLE AND FAINT ASSIGNED =\",len(np.unique(master_in[isfaint_1&isfaint_2][\"FIBER\"])))\n",
    "print(\"NUMBER OF FIBRES WITH FAINT AVAILABLE AND FAINT_HIP ASSIGNED =\",len(np.unique(master_in[isfaint_1&isfainthip_2][\"FIBER\"])))\n",
    "print(\"NUMBER OF FIBRES WITH FAINT AVAILABLE AND STAR ASSIGNED =\",len(np.unique(master_in[isfaint_1&isstar_2][\"FIBER\"])))"
   ]
  },
  {
   "cell_type": "code",
   "execution_count": 20,
   "metadata": {},
   "outputs": [
    {
     "name": "stdout",
     "output_type": "stream",
     "text": [
      "NUMBER OF FIBRES WITH FAINT_HIP AVAILABLE AND BRIGHT ASSIGNED = 60\n",
      "NUMBER OF FIBRES WITH FAINT_HIP AVAILABLE AND FAINT ASSIGNED = 87\n",
      "NUMBER OF FIBRES WITH FAINT_HIP AVAILABLE AND FAINT_HIP ASSIGNED = 48\n",
      "NUMBER OF FIBRES WITH FAINT_HIP AVAILABLE AND STAR ASSIGNED = 231\n"
     ]
    }
   ],
   "source": [
    "print(\"NUMBER OF FIBRES WITH FAINT_HIP AVAILABLE AND BRIGHT ASSIGNED =\",len(np.unique(master_in[isfainthip_1&isbright_2][\"FIBER\"])))\n",
    "print(\"NUMBER OF FIBRES WITH FAINT_HIP AVAILABLE AND FAINT ASSIGNED =\",len(np.unique(master_in[isfainthip_1&isfaint_2][\"FIBER\"])))\n",
    "print(\"NUMBER OF FIBRES WITH FAINT_HIP AVAILABLE AND FAINT_HIP ASSIGNED =\",len(np.unique(master_in[isfainthip_1&isfainthip_2][\"FIBER\"])))\n",
    "print(\"NUMBER OF FIBRES WITH FAINT_HIP AVAILABLE AND STAR ASSIGNED =\",len(np.unique(master_in[isfainthip_1&isstar_2][\"FIBER\"])))"
   ]
  },
  {
   "cell_type": "code",
   "execution_count": 21,
   "metadata": {},
   "outputs": [
    {
     "name": "stdout",
     "output_type": "stream",
     "text": [
      "NUMBER OF FIBRES WITH STAR AVAILABLE AND BRIGHT ASSIGNED = 524\n",
      "NUMBER OF FIBRES WITH STAR AVAILABLE AND FAINT ASSIGNED = 818\n",
      "NUMBER OF FIBRES WITH STAR AVAILABLE AND FAINT_HIP ASSIGNED = 47\n",
      "NUMBER OF FIBRES WITH STAR AVAILABLE AND STAR ASSIGNED = 2939\n"
     ]
    }
   ],
   "source": [
    "print(\"NUMBER OF FIBRES WITH STAR AVAILABLE AND BRIGHT ASSIGNED =\",len(np.unique(master_in[isstar_1&isbright_2][\"FIBER\"])))\n",
    "print(\"NUMBER OF FIBRES WITH STAR AVAILABLE AND FAINT ASSIGNED =\",len(np.unique(master_in[isstar_1&isfaint_2][\"FIBER\"])))\n",
    "print(\"NUMBER OF FIBRES WITH STAR AVAILABLE AND FAINT_HIP ASSIGNED =\",len(np.unique(master_in[isstar_1&isfainthip_2][\"FIBER\"])))\n",
    "print(\"NUMBER OF FIBRES WITH STAR AVAILABLE AND STAR ASSIGNED =\",len(np.unique(master_in[isstar_1&isstar_2][\"FIBER\"])))"
   ]
  },
  {
   "cell_type": "code",
   "execution_count": 22,
   "metadata": {},
   "outputs": [
    {
     "name": "stdout",
     "output_type": "stream",
     "text": [
      "NUMBER OF FIBRES WITH BRIGHT AVAILABLE AND BRIGHT ASSIGNED = 314\n",
      "NUMBER OF FIBRES WITH FAINT AVAILABLE AND BRIGHT ASSIGNED = 265\n",
      "NUMBER OF FIBRES WITH FAINT_HIP AVAILABLE AND BRIGHT ASSIGNED = 39\n",
      "NUMBER OF FIBRES WITH STAR AVAILABLE AND BRIGHT ASSIGNED = 584\n"
     ]
    }
   ],
   "source": [
    "print(\"NUMBER OF FIBRES WITH BRIGHT AVAILABLE AND BRIGHT ASSIGNED =\",len(np.unique(master_in[isbright_1&issky][\"FIBER\"])))\n",
    "print(\"NUMBER OF FIBRES WITH FAINT AVAILABLE AND BRIGHT ASSIGNED =\",len(np.unique(master_in[isfaint_1&issky][\"FIBER\"])))\n",
    "print(\"NUMBER OF FIBRES WITH FAINT_HIP AVAILABLE AND BRIGHT ASSIGNED =\",len(np.unique(master_in[isfainthip_1&issky][\"FIBER\"])))\n",
    "print(\"NUMBER OF FIBRES WITH STAR AVAILABLE AND BRIGHT ASSIGNED =\",len(np.unique(master_in[isstar_1&issky][\"FIBER\"])))"
   ]
  },
  {
   "cell_type": "code",
   "execution_count": 51,
   "metadata": {},
   "outputs": [
    {
     "name": "stdout",
     "output_type": "stream",
     "text": [
      "NUMBER OF FIBRES WITH BRIGHT AVAILABLE AND SKY ASSIGNED = 314\n",
      "NUMBER OF FIBRES WITH FAINT AVAILABLE AND SKY ASSIGNED = 265\n",
      "NUMBER OF FIBRES WITH FAINT_HIP AVAILABLE AND SKY ASSIGNED = 39\n",
      "NUMBER OF FIBRES WITH ZERO AVAILABLE AND SKY ASSIGNED = 584\n"
     ]
    }
   ],
   "source": [
    "print(\"NUMBER OF FIBRES WITH BRIGHT AVAILABLE AND SKY ASSIGNED =\",len(np.unique(master_in[isbright_1&issky][\"FIBER\"])))\n",
    "print(\"NUMBER OF FIBRES WITH FAINT AVAILABLE AND SKY ASSIGNED =\",len(np.unique(master_in[isfaint_1&issky][\"FIBER\"])))\n",
    "print(\"NUMBER OF FIBRES WITH FAINT_HIP AVAILABLE AND SKY ASSIGNED =\",len(np.unique(master_in[isfainthip_1&issky][\"FIBER\"])))\n",
    "print(\"NUMBER OF FIBRES WITH ZERO AVAILABLE AND SKY ASSIGNED =\",len(np.unique(master_in[isstar_1&issky][\"FIBER\"])))"
   ]
  },
  {
   "cell_type": "code",
   "execution_count": 24,
   "metadata": {},
   "outputs": [],
   "source": [
    "Count_fibers=np.ones(16)\n",
    "OBS=[\"BRIGHT2BRIGHT\",\"BRIGHT2FAINT\",\"BRIGHT2FAINTHIP\",\"BRIGHT2STAR\",\"FAINT2BRIGHT\",\"FAINT2FAINT\",\"FAINT2FAINTHIP\",\"FAINT2STAR\",\n",
    "    \"FAINTHIP2BRIGHT\",\"FAINTHIP2FAINT\",\"FAINTHIP2FAINTHIP\",\"FAINTHIP2STAR\",\"STAR2BRIGHT\",\"STAR2FAINT\",\"STAR2FAINTHIP\",\"STAR2STAR\"]\n",
    "\n",
    "Count_fibers[0]=len(np.unique(master_in[isbright_1&isbright_2][\"FIBER\"]))\n",
    "Count_fibers[1]=len(np.unique(master_in[isbright_1&isfaint_2][\"FIBER\"]))\n",
    "Count_fibers[2]=len(np.unique(master_in[isbright_1&isfainthip_2][\"FIBER\"]))\n",
    "Count_fibers[3]=len(np.unique(master_in[isbright_1&isstar_2][\"FIBER\"]))\n",
    "Count_fibers[4]=len(np.unique(master_in[isfaint_1&isbright_2][\"FIBER\"]))\n",
    "Count_fibers[5]=len(np.unique(master_in[isfaint_1&isfaint_2][\"FIBER\"]))\n",
    "Count_fibers[6]=len(np.unique(master_in[isfaint_1&isfainthip_2][\"FIBER\"]))\n",
    "Count_fibers[7]=len(np.unique(master_in[isfaint_1&isstar_2][\"FIBER\"]))\n",
    "Count_fibers[8]=len(np.unique(master_in[isfainthip_1&isbright_2][\"FIBER\"]))\n",
    "Count_fibers[9]=len(np.unique(master_in[isfainthip_1&isfaint_2][\"FIBER\"]))\n",
    "Count_fibers[10]=len(np.unique(master_in[isfainthip_1&isfainthip_2][\"FIBER\"]))\n",
    "Count_fibers[11]=len(np.unique(master_in[isfainthip_1&isstar_2][\"FIBER\"]))\n",
    "Count_fibers[12]=len(np.unique(master_in[isstar_1&isbright_2][\"FIBER\"]))\n",
    "Count_fibers[13]=len(np.unique(master_in[isstar_1&isfaint_2][\"FIBER\"]))\n",
    "Count_fibers[14]=len(np.unique(master_in[isstar_1&isfainthip_2][\"FIBER\"]))\n",
    "Count_fibers[15]=len(np.unique(master_in[isstar_1&isstar_2][\"FIBER\"]))"
   ]
  },
  {
   "cell_type": "code",
   "execution_count": 25,
   "metadata": {},
   "outputs": [
    {
     "data": {
      "text/html": [
       "&lt;Table length=16&gt;\n",
       "<table id=\"table46913423922232\" class=\"table-striped table-bordered table-condensed\">\n",
       "<thead><tr><th>col0</th><th>col1</th></tr></thead>\n",
       "<thead><tr><th>str17</th><th>float64</th></tr></thead>\n",
       "<tr><td>BRIGHT2BRIGHT</td><td>531.0</td></tr>\n",
       "<tr><td>BRIGHT2FAINT</td><td>617.0</td></tr>\n",
       "<tr><td>BRIGHT2FAINTHIP</td><td>41.0</td></tr>\n",
       "<tr><td>BRIGHT2STAR</td><td>1617.0</td></tr>\n",
       "<tr><td>FAINT2BRIGHT</td><td>363.0</td></tr>\n",
       "<tr><td>FAINT2FAINT</td><td>833.0</td></tr>\n",
       "<tr><td>FAINT2FAINTHIP</td><td>24.0</td></tr>\n",
       "<tr><td>FAINT2STAR</td><td>1329.0</td></tr>\n",
       "<tr><td>FAINTHIP2BRIGHT</td><td>60.0</td></tr>\n",
       "<tr><td>FAINTHIP2FAINT</td><td>87.0</td></tr>\n",
       "<tr><td>FAINTHIP2FAINTHIP</td><td>48.0</td></tr>\n",
       "<tr><td>FAINTHIP2STAR</td><td>231.0</td></tr>\n",
       "<tr><td>STAR2BRIGHT</td><td>524.0</td></tr>\n",
       "<tr><td>STAR2FAINT</td><td>818.0</td></tr>\n",
       "<tr><td>STAR2FAINTHIP</td><td>47.0</td></tr>\n",
       "<tr><td>STAR2STAR</td><td>2939.0</td></tr>\n",
       "</table>"
      ],
      "text/plain": [
       "<Table length=16>\n",
       "       col0         col1 \n",
       "      str17       float64\n",
       "----------------- -------\n",
       "    BRIGHT2BRIGHT   531.0\n",
       "     BRIGHT2FAINT   617.0\n",
       "  BRIGHT2FAINTHIP    41.0\n",
       "      BRIGHT2STAR  1617.0\n",
       "     FAINT2BRIGHT   363.0\n",
       "      FAINT2FAINT   833.0\n",
       "   FAINT2FAINTHIP    24.0\n",
       "       FAINT2STAR  1329.0\n",
       "  FAINTHIP2BRIGHT    60.0\n",
       "   FAINTHIP2FAINT    87.0\n",
       "FAINTHIP2FAINTHIP    48.0\n",
       "    FAINTHIP2STAR   231.0\n",
       "      STAR2BRIGHT   524.0\n",
       "       STAR2FAINT   818.0\n",
       "    STAR2FAINTHIP    47.0\n",
       "        STAR2STAR  2939.0"
      ]
     },
     "execution_count": 25,
     "metadata": {},
     "output_type": "execute_result"
    }
   ],
   "source": [
    "Table([OBS,Count_fibers])"
   ]
  },
  {
   "cell_type": "code",
   "execution_count": null,
   "metadata": {},
   "outputs": [],
   "source": []
  }
 ],
 "metadata": {
  "kernelspec": {
   "display_name": "DESI master",
   "language": "python",
   "name": "desi-master"
  },
  "language_info": {
   "codemirror_mode": {
    "name": "ipython",
    "version": 3
   },
   "file_extension": ".py",
   "mimetype": "text/x-python",
   "name": "python",
   "nbconvert_exporter": "python",
   "pygments_lexer": "ipython3",
   "version": "3.6.6"
  }
 },
 "nbformat": 4,
 "nbformat_minor": 4
}
